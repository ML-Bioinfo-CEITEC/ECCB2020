{
  "nbformat": 4,
  "nbformat_minor": 0,
  "metadata": {
    "colab": {
      "name": "02_MNIST.ipynb",
      "provenance": [],
      "collapsed_sections": [],
      "toc_visible": true
    },
    "kernelspec": {
      "name": "python3",
      "display_name": "Python 3"
    },
    "accelerator": "GPU"
  },
  "cells": [
    {
      "cell_type": "markdown",
      "metadata": {
        "id": "Di7WDFcEXzUO",
        "colab_type": "text"
      },
      "source": [
        "# Hello MNIST!\n",
        "\n",
        "In this notebook, you'll learn how to train an image classifier train on the MNIST dataset - the \"hello world\" of computer vision. You'll go through all the steps, including loading the data, building and training a model.\n",
        "\n",
        "\n"
      ]
    },
    {
      "cell_type": "markdown",
      "metadata": {
        "id": "FkInZP-pHvZp",
        "colab_type": "text"
      },
      "source": [
        "Let us start with downloading the MNIST dataset and loading necessary libraries."
      ]
    },
    {
      "cell_type": "code",
      "metadata": {
        "id": "OKz-Xrfq-FsZ",
        "colab_type": "code",
        "colab": {
          "base_uri": "https://localhost:8080/",
          "height": 1000
        },
        "outputId": "b7473639-5227-4743-e524-b83fc6676ded"
      },
      "source": [
        "!pip install fastai2\n",
        "!wget http://deeplearning.net/data/mnist/mnist.pkl.gz\n",
        "\n",
        "from fastai2.vision.all import *\n",
        "from torch.utils.data import TensorDataset\n",
        "import gzip"
      ],
      "execution_count": null,
      "outputs": [
        {
          "output_type": "stream",
          "text": [
            "Collecting fastai2\n",
            "\u001b[?25l  Downloading https://files.pythonhosted.org/packages/cc/50/2f37212be57b7ee3e9c947336f75a66724468b21a3ca68734eaa82e7ebf3/fastai2-0.0.30-py3-none-any.whl (179kB)\n",
            "\r\u001b[K     |█▉                              | 10kB 27.7MB/s eta 0:00:01\r\u001b[K     |███▋                            | 20kB 3.5MB/s eta 0:00:01\r\u001b[K     |█████▌                          | 30kB 4.7MB/s eta 0:00:01\r\u001b[K     |███████▎                        | 40kB 5.1MB/s eta 0:00:01\r\u001b[K     |█████████▏                      | 51kB 4.2MB/s eta 0:00:01\r\u001b[K     |███████████                     | 61kB 4.6MB/s eta 0:00:01\r\u001b[K     |████████████▉                   | 71kB 5.1MB/s eta 0:00:01\r\u001b[K     |██████████████▋                 | 81kB 5.5MB/s eta 0:00:01\r\u001b[K     |████████████████▍               | 92kB 5.9MB/s eta 0:00:01\r\u001b[K     |██████████████████▎             | 102kB 5.7MB/s eta 0:00:01\r\u001b[K     |████████████████████            | 112kB 5.7MB/s eta 0:00:01\r\u001b[K     |██████████████████████          | 122kB 5.7MB/s eta 0:00:01\r\u001b[K     |███████████████████████▊        | 133kB 5.7MB/s eta 0:00:01\r\u001b[K     |█████████████████████████▋      | 143kB 5.7MB/s eta 0:00:01\r\u001b[K     |███████████████████████████▍    | 153kB 5.7MB/s eta 0:00:01\r\u001b[K     |█████████████████████████████▎  | 163kB 5.7MB/s eta 0:00:01\r\u001b[K     |███████████████████████████████ | 174kB 5.7MB/s eta 0:00:01\r\u001b[K     |████████████████████████████████| 184kB 5.7MB/s \n",
            "\u001b[?25hRequirement already satisfied: torchvision>=0.7 in /usr/local/lib/python3.6/dist-packages (from fastai2) (0.7.0+cu101)\n",
            "Requirement already satisfied: requests in /usr/local/lib/python3.6/dist-packages (from fastai2) (2.23.0)\n",
            "Requirement already satisfied: fastprogress>=0.2.4 in /usr/local/lib/python3.6/dist-packages (from fastai2) (1.0.0)\n",
            "Requirement already satisfied: pandas in /usr/local/lib/python3.6/dist-packages (from fastai2) (1.0.5)\n",
            "Requirement already satisfied: pip in /usr/local/lib/python3.6/dist-packages (from fastai2) (19.3.1)\n",
            "Requirement already satisfied: scipy in /usr/local/lib/python3.6/dist-packages (from fastai2) (1.4.1)\n",
            "Requirement already satisfied: packaging in /usr/local/lib/python3.6/dist-packages (from fastai2) (20.4)\n",
            "Requirement already satisfied: matplotlib in /usr/local/lib/python3.6/dist-packages (from fastai2) (3.2.2)\n",
            "Collecting fastcore>=0.1.34\n",
            "  Downloading https://files.pythonhosted.org/packages/cc/92/233661d730b5613b4daf473cd28005bf2294fb1a858ce0bac57fbb7fa5ec/fastcore-1.0.0-py3-none-any.whl\n",
            "Requirement already satisfied: torch>=1.6.0 in /usr/local/lib/python3.6/dist-packages (from fastai2) (1.6.0+cu101)\n",
            "Requirement already satisfied: pyyaml in /usr/local/lib/python3.6/dist-packages (from fastai2) (3.13)\n",
            "Requirement already satisfied: spacy in /usr/local/lib/python3.6/dist-packages (from fastai2) (2.2.4)\n",
            "Requirement already satisfied: scikit-learn in /usr/local/lib/python3.6/dist-packages (from fastai2) (0.22.2.post1)\n",
            "Requirement already satisfied: pillow in /usr/local/lib/python3.6/dist-packages (from fastai2) (7.0.0)\n",
            "Requirement already satisfied: numpy in /usr/local/lib/python3.6/dist-packages (from torchvision>=0.7->fastai2) (1.18.5)\n",
            "Requirement already satisfied: chardet<4,>=3.0.2 in /usr/local/lib/python3.6/dist-packages (from requests->fastai2) (3.0.4)\n",
            "Requirement already satisfied: idna<3,>=2.5 in /usr/local/lib/python3.6/dist-packages (from requests->fastai2) (2.10)\n",
            "Requirement already satisfied: urllib3!=1.25.0,!=1.25.1,<1.26,>=1.21.1 in /usr/local/lib/python3.6/dist-packages (from requests->fastai2) (1.24.3)\n",
            "Requirement already satisfied: certifi>=2017.4.17 in /usr/local/lib/python3.6/dist-packages (from requests->fastai2) (2020.6.20)\n",
            "Requirement already satisfied: pytz>=2017.2 in /usr/local/lib/python3.6/dist-packages (from pandas->fastai2) (2018.9)\n",
            "Requirement already satisfied: python-dateutil>=2.6.1 in /usr/local/lib/python3.6/dist-packages (from pandas->fastai2) (2.8.1)\n",
            "Requirement already satisfied: six in /usr/local/lib/python3.6/dist-packages (from packaging->fastai2) (1.15.0)\n",
            "Requirement already satisfied: pyparsing>=2.0.2 in /usr/local/lib/python3.6/dist-packages (from packaging->fastai2) (2.4.7)\n",
            "Requirement already satisfied: cycler>=0.10 in /usr/local/lib/python3.6/dist-packages (from matplotlib->fastai2) (0.10.0)\n",
            "Requirement already satisfied: kiwisolver>=1.0.1 in /usr/local/lib/python3.6/dist-packages (from matplotlib->fastai2) (1.2.0)\n",
            "Requirement already satisfied: wheel in /usr/local/lib/python3.6/dist-packages (from fastcore>=0.1.34->fastai2) (0.35.1)\n",
            "Requirement already satisfied: dataclasses in /usr/local/lib/python3.6/dist-packages (from fastcore>=0.1.34->fastai2) (0.7)\n",
            "Requirement already satisfied: future in /usr/local/lib/python3.6/dist-packages (from torch>=1.6.0->fastai2) (0.16.0)\n",
            "Requirement already satisfied: tqdm<5.0.0,>=4.38.0 in /usr/local/lib/python3.6/dist-packages (from spacy->fastai2) (4.41.1)\n",
            "Requirement already satisfied: preshed<3.1.0,>=3.0.2 in /usr/local/lib/python3.6/dist-packages (from spacy->fastai2) (3.0.2)\n",
            "Requirement already satisfied: plac<1.2.0,>=0.9.6 in /usr/local/lib/python3.6/dist-packages (from spacy->fastai2) (1.1.3)\n",
            "Requirement already satisfied: catalogue<1.1.0,>=0.0.7 in /usr/local/lib/python3.6/dist-packages (from spacy->fastai2) (1.0.0)\n",
            "Requirement already satisfied: blis<0.5.0,>=0.4.0 in /usr/local/lib/python3.6/dist-packages (from spacy->fastai2) (0.4.1)\n",
            "Requirement already satisfied: srsly<1.1.0,>=1.0.2 in /usr/local/lib/python3.6/dist-packages (from spacy->fastai2) (1.0.2)\n",
            "Requirement already satisfied: murmurhash<1.1.0,>=0.28.0 in /usr/local/lib/python3.6/dist-packages (from spacy->fastai2) (1.0.2)\n",
            "Requirement already satisfied: cymem<2.1.0,>=2.0.2 in /usr/local/lib/python3.6/dist-packages (from spacy->fastai2) (2.0.3)\n",
            "Requirement already satisfied: setuptools in /usr/local/lib/python3.6/dist-packages (from spacy->fastai2) (49.6.0)\n",
            "Requirement already satisfied: thinc==7.4.0 in /usr/local/lib/python3.6/dist-packages (from spacy->fastai2) (7.4.0)\n",
            "Requirement already satisfied: wasabi<1.1.0,>=0.4.0 in /usr/local/lib/python3.6/dist-packages (from spacy->fastai2) (0.7.1)\n",
            "Requirement already satisfied: joblib>=0.11 in /usr/local/lib/python3.6/dist-packages (from scikit-learn->fastai2) (0.16.0)\n",
            "Requirement already satisfied: importlib-metadata>=0.20; python_version < \"3.8\" in /usr/local/lib/python3.6/dist-packages (from catalogue<1.1.0,>=0.0.7->spacy->fastai2) (1.7.0)\n",
            "Requirement already satisfied: zipp>=0.5 in /usr/local/lib/python3.6/dist-packages (from importlib-metadata>=0.20; python_version < \"3.8\"->catalogue<1.1.0,>=0.0.7->spacy->fastai2) (3.1.0)\n",
            "Installing collected packages: fastcore, fastai2\n",
            "Successfully installed fastai2-0.0.30 fastcore-1.0.0\n",
            "--2020-08-31 13:22:54--  http://deeplearning.net/data/mnist/mnist.pkl.gz\n",
            "Resolving deeplearning.net (deeplearning.net)... 132.204.26.28\n",
            "Connecting to deeplearning.net (deeplearning.net)|132.204.26.28|:80... connected.\n",
            "HTTP request sent, awaiting response... 200 OK\n",
            "Length: 16168813 (15M) [application/x-gzip]\n",
            "Saving to: ‘mnist.pkl.gz’\n",
            "\n",
            "mnist.pkl.gz        100%[===================>]  15.42M  11.3MB/s    in 1.4s    \n",
            "\n",
            "2020-08-31 13:22:56 (11.3 MB/s) - ‘mnist.pkl.gz’ saved [16168813/16168813]\n",
            "\n"
          ],
          "name": "stdout"
        }
      ]
    },
    {
      "cell_type": "markdown",
      "metadata": {
        "id": "LJg-clT5ZC81",
        "colab_type": "text"
      },
      "source": [
        "## Step 1) Load the dataset\n",
        "\n",
        "The MNIST dataset contains thousands of grayscale images of handwritten digits. There are ten distinct categories, coresponding to numbers 0 - 9."
      ]
    },
    {
      "cell_type": "code",
      "metadata": {
        "id": "HUfg6y5u-0nM",
        "colab_type": "code",
        "colab": {
          "base_uri": "https://localhost:8080/",
          "height": 282
        },
        "outputId": "79d208af-d125-475a-87ab-b4fb4c40a509"
      },
      "source": [
        "with gzip.open('mnist.pkl.gz', 'rb') as f:\n",
        "    ((x_train, y_train), (x_valid, y_valid), _) = pickle.load(f, encoding='latin-1')\n",
        "\n",
        "# get one image\n",
        "print(y_train[1])\n",
        "plt.imshow(x_train[1].reshape((28,28)), cmap='gray', interpolation='none');"
      ],
      "execution_count": null,
      "outputs": [
        {
          "output_type": "stream",
          "text": [
            "0\n"
          ],
          "name": "stdout"
        },
        {
          "output_type": "display_data",
          "data": {
            "image/png": "[encoded data removed]",
            "text/plain": [
              "<Figure size 432x288 with 1 Axes>"
            ]
          },
          "metadata": {
            "tags": [],
            "needs_background": "light"
          }
        }
      ]
    },
    {
      "cell_type": "code",
      "metadata": {
        "id": "OiKB1PrHyPWh",
        "colab_type": "code",
        "colab": {
          "base_uri": "https://localhost:8080/",
          "height": 34
        },
        "outputId": "521261ec-4242-4956-b80d-c3ae9ba6a558"
      },
      "source": [
        "# change arrays into tensors:\n",
        "x_train, y_train, x_valid, y_valid = map(torch.tensor, (x_train, y_train, x_valid, y_valid))\n",
        "x_train.shape, y_train.min(), y_train.max()"
      ],
      "execution_count": null,
      "outputs": [
        {
          "output_type": "execute_result",
          "data": {
            "text/plain": [
              "(torch.Size([50000, 784]), tensor(0), tensor(9))"
            ]
          },
          "metadata": {
            "tags": []
          },
          "execution_count": 3
        }
      ]
    },
    {
      "cell_type": "markdown",
      "metadata": {
        "id": "VMfMkmsWKIWV",
        "colab_type": "text"
      },
      "source": [
        "The input data are flattened to fit into the first layer of our neural network.\n",
        "Instead of several 28x28 images, we  have several vectors that are all length 784 (28*28=784).  \n",
        "\n",
        "We are going to feed the dataset into our network in mini batches of size 64 as the dataset is too big to be used all at once. By calling DataLoaders.from_dsets  we are going to create data loaders which will give us a mini batch of data.  The training set gets randomly shuffled and the data is put on the GPU.\n"
      ]
    },
    {
      "cell_type": "code",
      "metadata": {
        "id": "4txXFoqS00g5",
        "colab_type": "code",
        "colab": {}
      },
      "source": [
        "bs=64\n",
        "train_ds = TensorDataset(x_train, y_train) # grab two tensors and create a dataset\n",
        "valid_ds = TensorDataset(x_valid, y_valid)\n",
        "data = DataLoaders.from_dsets(train_ds, valid_ds, bs=bs) # data object to feed into NN"
      ],
      "execution_count": null,
      "outputs": []
    },
    {
      "cell_type": "markdown",
      "metadata": {
        "id": "1Xh43ZrkaRR3",
        "colab_type": "text"
      },
      "source": [
        "Let's check a mini batch you'll get from the train data loader:"
      ]
    },
    {
      "cell_type": "code",
      "metadata": {
        "id": "FkTdVbjL025g",
        "colab_type": "code",
        "colab": {
          "base_uri": "https://localhost:8080/",
          "height": 34
        },
        "outputId": "57be5303-ea9f-4e81-f222-5577bd44c0f4"
      },
      "source": [
        "x,y = next(iter(data.train))\n",
        "x.shape,y.shape"
      ],
      "execution_count": null,
      "outputs": [
        {
          "output_type": "execute_result",
          "data": {
            "text/plain": [
              "(torch.Size([64, 784]), torch.Size([64]))"
            ]
          },
          "metadata": {
            "tags": []
          },
          "execution_count": 5
        }
      ]
    },
    {
      "cell_type": "markdown",
      "metadata": {
        "id": "cBPjRbgHbUYE",
        "colab_type": "text"
      },
      "source": [
        "## Step 2) Visualize the data\n",
        "\n",
        "Show a random sample of the dataset along with it's corresponding labels:\n"
      ]
    },
    {
      "cell_type": "code",
      "metadata": {
        "id": "iYO_SSjpCMyN",
        "colab_type": "code",
        "colab": {}
      },
      "source": [
        "indices = random.sample(range(50000), 9)"
      ],
      "execution_count": null,
      "outputs": []
    },
    {
      "cell_type": "code",
      "metadata": {
        "id": "618ZVdEZCOMu",
        "colab_type": "code",
        "colab": {
          "base_uri": "https://localhost:8080/",
          "height": 284
        },
        "outputId": "34a09cb3-0627-40d2-bed2-a63fc221b9c6"
      },
      "source": [
        "fig = plt.figure()\n",
        "for i, ind in enumerate(indices):\n",
        "  plt.subplot(3,3,i+1)\n",
        "  plt.tight_layout()\n",
        "  plt.imshow(x_train[ind].reshape((28,28)), cmap='gray', interpolation='none')\n",
        "  plt.title(\"Label: {}\".format(y_train[ind]))\n",
        "  plt.xticks([])\n",
        "  plt.yticks([])"
      ],
      "execution_count": null,
      "outputs": [
        {
          "output_type": "display_data",
          "data": {
            "image/png": "[encoded data removed]",
            "text/plain": [
              "<Figure size 432x288 with 9 Axes>"
            ]
          },
          "metadata": {
            "tags": []
          }
        }
      ]
    },
    {
      "cell_type": "markdown",
      "metadata": {
        "id": "8CBR8fR2cIf6",
        "colab_type": "text"
      },
      "source": [
        "## Step 3) Build the model\n",
        "\n",
        "Architecture wise, we'll use a single layer network. All layers are Linear - the classic fully-connected neural network layers.\n",
        "* The hidden layer will have 512 units using the ReLU activation function.\n",
        "* The output layer will have 10 units, corresponding to the 10 digits, and use softmax function.\n",
        "\n",
        "The general convention for Pytorch network classes is that you create all your layers in the constructor, and then lay out their relationship in the forward() method.  \n"
      ]
    },
    {
      "cell_type": "code",
      "metadata": {
        "id": "BOEbfyVo_AdO",
        "colab_type": "code",
        "colab": {}
      },
      "source": [
        "class Net(nn.Module):\n",
        "    def __init__(self, image_size):\n",
        "        super(Net, self).__init__()\n",
        "        self.image_size = image_size\n",
        "        self.fc1 = nn.Linear(image_size, 512)\n",
        "        self.fc2 = nn.Linear(512, 10)\n",
        "\n",
        "    def forward(self, x):\n",
        "        x = F.relu(self.fc1(x))\n",
        "        x = F.log_softmax(self.fc2(x), dim =1)\n",
        "        return x\n"
      ],
      "execution_count": null,
      "outputs": []
    },
    {
      "cell_type": "markdown",
      "metadata": {
        "id": "npPWPT-Hdpru",
        "colab_type": "text"
      },
      "source": [
        "Here you can check what's inside a created model:"
      ]
    },
    {
      "cell_type": "code",
      "metadata": {
        "id": "h1IC5mRwdGE9",
        "colab_type": "code",
        "colab": {
          "base_uri": "https://localhost:8080/",
          "height": 85
        },
        "outputId": "8347ea36-8f23-4e68-d1d8-91c58a883d80"
      },
      "source": [
        "model = Net(image_size=28*28)\n",
        "model"
      ],
      "execution_count": null,
      "outputs": [
        {
          "output_type": "execute_result",
          "data": {
            "text/plain": [
              "Net(\n",
              "  (fc1): Linear(in_features=784, out_features=512, bias=True)\n",
              "  (fc2): Linear(in_features=512, out_features=10, bias=True)\n",
              ")"
            ]
          },
          "metadata": {
            "tags": []
          },
          "execution_count": 9
        }
      ]
    },
    {
      "cell_type": "markdown",
      "metadata": {
        "id": "GPURsBLwfC-H",
        "colab_type": "text"
      },
      "source": [
        "The model.parameters() contains our weight and bias matrices:"
      ]
    },
    {
      "cell_type": "code",
      "metadata": {
        "id": "NQ9PRs_WeBcv",
        "colab_type": "code",
        "colab": {
          "base_uri": "https://localhost:8080/",
          "height": 85
        },
        "outputId": "98547906-4bb6-4673-f109-77bf2c131acb"
      },
      "source": [
        "[p.shape for p in model.parameters()]"
      ],
      "execution_count": null,
      "outputs": [
        {
          "output_type": "execute_result",
          "data": {
            "text/plain": [
              "[torch.Size([512, 784]),\n",
              " torch.Size([512]),\n",
              " torch.Size([10, 512]),\n",
              " torch.Size([10])]"
            ]
          },
          "metadata": {
            "tags": []
          },
          "execution_count": 10
        }
      ]
    },
    {
      "cell_type": "markdown",
      "metadata": {
        "id": "d5yXTbCrgzH2",
        "colab_type": "text"
      },
      "source": [
        "## Step 4) Training\n"
      ]
    },
    {
      "cell_type": "code",
      "metadata": {
        "id": "Ts9pWEq81AXY",
        "colab_type": "code",
        "colab": {}
      },
      "source": [
        "# learning rate\n",
        "lr = 1e-2\n",
        "# loss function\n",
        "loss_func = nn.CrossEntropyLoss()"
      ],
      "execution_count": null,
      "outputs": []
    },
    {
      "cell_type": "markdown",
      "metadata": {
        "id": "PH3CS9QNgg-O",
        "colab_type": "text"
      },
      "source": [
        "Rather then setting up the model optimization in Pytorch, we are going to use fastai's Learner object. (By default, it uses the Adam optimizer.)"
      ]
    },
    {
      "cell_type": "code",
      "metadata": {
        "id": "8BHcfUh7t-Hj",
        "colab_type": "code",
        "colab": {}
      },
      "source": [
        "learn = Learner(data, Net(image_size=28*28), loss_func=loss_func, metrics=accuracy)\n"
      ],
      "execution_count": null,
      "outputs": []
    },
    {
      "cell_type": "markdown",
      "metadata": {
        "id": "tDgYL0LxiEl2",
        "colab_type": "text"
      },
      "source": [
        "We are going to use learn.fit_one_cycle() because it let us train our network faster."
      ]
    },
    {
      "cell_type": "code",
      "metadata": {
        "id": "zIisfXh71SYb",
        "colab_type": "code",
        "colab": {
          "base_uri": "https://localhost:8080/",
          "height": 142
        },
        "outputId": "c6e03f9e-ff5f-4f90-a418-1e1fc450d1cc"
      },
      "source": [
        "learn.fit_one_cycle(3, 1e-2)"
      ],
      "execution_count": null,
      "outputs": [
        {
          "output_type": "display_data",
          "data": {
            "text/html": [
              "<table border=\"1\" class=\"dataframe\">\n",
              "  <thead>\n",
              "    <tr style=\"text-align: left;\">\n",
              "      <th>epoch</th>\n",
              "      <th>train_loss</th>\n",
              "      <th>valid_loss</th>\n",
              "      <th>accuracy</th>\n",
              "      <th>time</th>\n",
              "    </tr>\n",
              "  </thead>\n",
              "  <tbody>\n",
              "    <tr>\n",
              "      <td>0</td>\n",
              "      <td>0.198272</td>\n",
              "      <td>0.149414</td>\n",
              "      <td>0.956900</td>\n",
              "      <td>00:09</td>\n",
              "    </tr>\n",
              "    <tr>\n",
              "      <td>1</td>\n",
              "      <td>0.090770</td>\n",
              "      <td>0.100717</td>\n",
              "      <td>0.971800</td>\n",
              "      <td>00:11</td>\n",
              "    </tr>\n",
              "    <tr>\n",
              "      <td>2</td>\n",
              "      <td>0.038049</td>\n",
              "      <td>0.069911</td>\n",
              "      <td>0.979400</td>\n",
              "      <td>00:11</td>\n",
              "    </tr>\n",
              "  </tbody>\n",
              "</table>"
            ],
            "text/plain": [
              "<IPython.core.display.HTML object>"
            ]
          },
          "metadata": {
            "tags": []
          }
        }
      ]
    },
    {
      "cell_type": "code",
      "metadata": {
        "id": "upe4IW3fxGgy",
        "colab_type": "code",
        "colab": {
          "base_uri": "https://localhost:8080/",
          "height": 265
        },
        "outputId": "137e5235-cc4b-42cf-ab60-0e4c1ed0f60c"
      },
      "source": [
        "learn.recorder.plot_sched(keys='lr')"
      ],
      "execution_count": null,
      "outputs": [
        {
          "output_type": "display_data",
          "data": {
            "image/png": "[encoded data removed]",
            "text/plain": [
              "<Figure size 432x288 with 1 Axes>"
            ]
          },
          "metadata": {
            "tags": [],
            "needs_background": "light"
          }
        }
      ]
    }
  ]
}