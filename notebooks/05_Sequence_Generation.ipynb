{
  "nbformat": 4,
  "nbformat_minor": 0,
  "metadata": {
    "colab": {
      "name": "05_Sequence_Generation.ipynb",
      "provenance": [],
      "collapsed_sections": [],
      "toc_visible": true
    },
    "kernelspec": {
      "name": "python3",
      "display_name": "Python 3"
    },
    "accelerator": "GPU"
  },
  "cells": [
    {
      "cell_type": "markdown",
      "metadata": {
        "id": "TpyAVLnGShFA",
        "colab_type": "text"
      },
      "source": [
        "# Word-Level Text Generation"
      ]
    },
    {
      "cell_type": "markdown",
      "metadata": {
        "id": "_1JKRjQ_UErn",
        "colab_type": "text"
      },
      "source": [
        "## Setup"
      ]
    },
    {
      "cell_type": "code",
      "metadata": {
        "id": "cFN4SW1Kx9kL",
        "colab_type": "code",
        "colab": {
          "base_uri": "https://localhost:8080/",
          "height": 819
        },
        "outputId": "83c7338e-b9ba-4c56-d9fa-f075d51baa14"
      },
      "source": [
        "!pip install fastai2\n",
        "\n",
        "from fastai2.text.all import *\n",
        "from pathlib import Path\n",
        "import urllib.request\n",
        "import warnings"
      ],
      "execution_count": 45,
      "outputs": [
        {
          "output_type": "stream",
          "text": [
            "Requirement already satisfied: fastai2 in /usr/local/lib/python3.6/dist-packages (0.0.30)\n",
            "Requirement already satisfied: pillow in /usr/local/lib/python3.6/dist-packages (from fastai2) (7.0.0)\n",
            "Requirement already satisfied: requests in /usr/local/lib/python3.6/dist-packages (from fastai2) (2.23.0)\n",
            "Requirement already satisfied: matplotlib in /usr/local/lib/python3.6/dist-packages (from fastai2) (3.2.2)\n",
            "Requirement already satisfied: pandas in /usr/local/lib/python3.6/dist-packages (from fastai2) (1.0.5)\n",
            "Requirement already satisfied: fastcore>=0.1.34 in /usr/local/lib/python3.6/dist-packages (from fastai2) (1.0.0)\n",
            "Requirement already satisfied: scikit-learn in /usr/local/lib/python3.6/dist-packages (from fastai2) (0.22.2.post1)\n",
            "Requirement already satisfied: scipy in /usr/local/lib/python3.6/dist-packages (from fastai2) (1.4.1)\n",
            "Requirement already satisfied: packaging in /usr/local/lib/python3.6/dist-packages (from fastai2) (20.4)\n",
            "Requirement already satisfied: torchvision>=0.7 in /usr/local/lib/python3.6/dist-packages (from fastai2) (0.7.0+cu101)\n",
            "Requirement already satisfied: torch>=1.6.0 in /usr/local/lib/python3.6/dist-packages (from fastai2) (1.6.0+cu101)\n",
            "Requirement already satisfied: spacy in /usr/local/lib/python3.6/dist-packages (from fastai2) (2.2.4)\n",
            "Requirement already satisfied: fastprogress>=0.2.4 in /usr/local/lib/python3.6/dist-packages (from fastai2) (1.0.0)\n",
            "Requirement already satisfied: pyyaml in /usr/local/lib/python3.6/dist-packages (from fastai2) (3.13)\n",
            "Requirement already satisfied: pip in /usr/local/lib/python3.6/dist-packages (from fastai2) (19.3.1)\n",
            "Requirement already satisfied: chardet<4,>=3.0.2 in /usr/local/lib/python3.6/dist-packages (from requests->fastai2) (3.0.4)\n",
            "Requirement already satisfied: certifi>=2017.4.17 in /usr/local/lib/python3.6/dist-packages (from requests->fastai2) (2020.6.20)\n",
            "Requirement already satisfied: idna<3,>=2.5 in /usr/local/lib/python3.6/dist-packages (from requests->fastai2) (2.10)\n",
            "Requirement already satisfied: urllib3!=1.25.0,!=1.25.1,<1.26,>=1.21.1 in /usr/local/lib/python3.6/dist-packages (from requests->fastai2) (1.24.3)\n",
            "Requirement already satisfied: kiwisolver>=1.0.1 in /usr/local/lib/python3.6/dist-packages (from matplotlib->fastai2) (1.2.0)\n",
            "Requirement already satisfied: pyparsing!=2.0.4,!=2.1.2,!=2.1.6,>=2.0.1 in /usr/local/lib/python3.6/dist-packages (from matplotlib->fastai2) (2.4.7)\n",
            "Requirement already satisfied: python-dateutil>=2.1 in /usr/local/lib/python3.6/dist-packages (from matplotlib->fastai2) (2.8.1)\n",
            "Requirement already satisfied: cycler>=0.10 in /usr/local/lib/python3.6/dist-packages (from matplotlib->fastai2) (0.10.0)\n",
            "Requirement already satisfied: numpy>=1.11 in /usr/local/lib/python3.6/dist-packages (from matplotlib->fastai2) (1.18.5)\n",
            "Requirement already satisfied: pytz>=2017.2 in /usr/local/lib/python3.6/dist-packages (from pandas->fastai2) (2018.9)\n",
            "Requirement already satisfied: wheel in /usr/local/lib/python3.6/dist-packages (from fastcore>=0.1.34->fastai2) (0.35.1)\n",
            "Requirement already satisfied: dataclasses in /usr/local/lib/python3.6/dist-packages (from fastcore>=0.1.34->fastai2) (0.7)\n",
            "Requirement already satisfied: joblib>=0.11 in /usr/local/lib/python3.6/dist-packages (from scikit-learn->fastai2) (0.16.0)\n",
            "Requirement already satisfied: six in /usr/local/lib/python3.6/dist-packages (from packaging->fastai2) (1.15.0)\n",
            "Requirement already satisfied: future in /usr/local/lib/python3.6/dist-packages (from torch>=1.6.0->fastai2) (0.16.0)\n",
            "Requirement already satisfied: cymem<2.1.0,>=2.0.2 in /usr/local/lib/python3.6/dist-packages (from spacy->fastai2) (2.0.3)\n",
            "Requirement already satisfied: murmurhash<1.1.0,>=0.28.0 in /usr/local/lib/python3.6/dist-packages (from spacy->fastai2) (1.0.2)\n",
            "Requirement already satisfied: wasabi<1.1.0,>=0.4.0 in /usr/local/lib/python3.6/dist-packages (from spacy->fastai2) (0.7.1)\n",
            "Requirement already satisfied: blis<0.5.0,>=0.4.0 in /usr/local/lib/python3.6/dist-packages (from spacy->fastai2) (0.4.1)\n",
            "Requirement already satisfied: catalogue<1.1.0,>=0.0.7 in /usr/local/lib/python3.6/dist-packages (from spacy->fastai2) (1.0.0)\n",
            "Requirement already satisfied: plac<1.2.0,>=0.9.6 in /usr/local/lib/python3.6/dist-packages (from spacy->fastai2) (1.1.3)\n",
            "Requirement already satisfied: tqdm<5.0.0,>=4.38.0 in /usr/local/lib/python3.6/dist-packages (from spacy->fastai2) (4.41.1)\n",
            "Requirement already satisfied: setuptools in /usr/local/lib/python3.6/dist-packages (from spacy->fastai2) (49.6.0)\n",
            "Requirement already satisfied: srsly<1.1.0,>=1.0.2 in /usr/local/lib/python3.6/dist-packages (from spacy->fastai2) (1.0.2)\n",
            "Requirement already satisfied: thinc==7.4.0 in /usr/local/lib/python3.6/dist-packages (from spacy->fastai2) (7.4.0)\n",
            "Requirement already satisfied: preshed<3.1.0,>=3.0.2 in /usr/local/lib/python3.6/dist-packages (from spacy->fastai2) (3.0.2)\n",
            "Requirement already satisfied: importlib-metadata>=0.20; python_version < \"3.8\" in /usr/local/lib/python3.6/dist-packages (from catalogue<1.1.0,>=0.0.7->spacy->fastai2) (1.7.0)\n",
            "Requirement already satisfied: zipp>=0.5 in /usr/local/lib/python3.6/dist-packages (from importlib-metadata>=0.20; python_version < \"3.8\"->catalogue<1.1.0,>=0.0.7->spacy->fastai2) (3.1.0)\n"
          ],
          "name": "stdout"
        }
      ]
    },
    {
      "cell_type": "markdown",
      "metadata": {
        "id": "cJ83gacsUVuB",
        "colab_type": "text"
      },
      "source": [
        "## Text"
      ]
    },
    {
      "cell_type": "code",
      "metadata": {
        "id": "khYvd1_B9-sd",
        "colab_type": "code",
        "colab": {
          "base_uri": "https://localhost:8080/",
          "height": 35
        },
        "outputId": "5157feb9-e257-4267-b689-76500d9acbfe"
      },
      "source": [
        "# to clean, run !rm -rf data dta_tok\n",
        "Path(\"data\").mkdir(exist_ok=True)\n",
        "urllib.request.urlretrieve(\"https://s3.amazonaws.com/text-datasets/nietzsche.txt\", \"data/nietzsche.txt\")\n",
        "# Other possible text datasets\n",
        "# Shakespare sonnets, https://raw.githubusercontent.com/michaelrzhang/Char-RNN/master/data/sonnet.txt\n",
        "# Obama speaches, https://raw.githubusercontent.com/michaelrzhang/Char-RNN/master/data/obama.txt"
      ],
      "execution_count": 63,
      "outputs": [
        {
          "output_type": "execute_result",
          "data": {
            "text/plain": [
              "('data/nietzsche.txt', <http.client.HTTPMessage at 0x7f7fbc9da978>)"
            ]
          },
          "metadata": {
            "tags": []
          },
          "execution_count": 63
        }
      ]
    },
    {
      "cell_type": "code",
      "metadata": {
        "id": "cxHWYqJ_cNP2",
        "colab_type": "code",
        "colab": {
          "base_uri": "https://localhost:8080/",
          "height": 35
        },
        "outputId": "8f7facc3-ca98-4463-d98d-2879546fdda5"
      },
      "source": [
        "# let us look at the beginning of file\n",
        "get_files(\"data\")[0].read()[:100]"
      ],
      "execution_count": 64,
      "outputs": [
        {
          "output_type": "execute_result",
          "data": {
            "application/vnd.google.colaboratory.intrinsic+json": {
              "type": "string"
            },
            "text/plain": [
              "'PREFACE\\n\\n\\nSUPPOSING that Truth is a woman--what then? Is there not ground\\nfor suspecting that all ph'"
            ]
          },
          "metadata": {
            "tags": []
          },
          "execution_count": 64
        }
      ]
    },
    {
      "cell_type": "code",
      "metadata": {
        "id": "D72WtMFd5i8t",
        "colab_type": "code",
        "colab": {}
      },
      "source": [
        "dls = TextDataLoaders.from_folder(\"data\", is_lm=True, valid_pct=0)"
      ],
      "execution_count": 65,
      "outputs": []
    },
    {
      "cell_type": "code",
      "metadata": {
        "id": "vc6ZkXiD-0OF",
        "colab_type": "code",
        "colab": {
          "base_uri": "https://localhost:8080/",
          "height": 785
        },
        "outputId": "b3427f24-c7d3-4a91-d2f0-6c4bdb99ae8b"
      },
      "source": [
        "dls.show_batch()"
      ],
      "execution_count": 66,
      "outputs": [
        {
          "output_type": "display_data",
          "data": {
            "text/html": [
              "<table border=\"1\" class=\"dataframe\">\n",
              "  <thead>\n",
              "    <tr style=\"text-align: right;\">\n",
              "      <th></th>\n",
              "      <th>text</th>\n",
              "      <th>text_</th>\n",
              "    </tr>\n",
              "  </thead>\n",
              "  <tbody>\n",
              "    <tr>\n",
              "      <th>0</th>\n",
              "      <td>xxbos xxup xxunk \\n\\n\\n xxup supposing that xxmaj truth is a woman -- what then ? xxmaj is there not ground \\n for xxunk that all philosophers , in so far as they have been \\n dogmatists , have xxunk to understand women -- that the terrible \\n seriousness and clumsy xxunk with which they have usually paid \\n their xxunk to xxmaj truth , have been xxunk and unseemly methods for</td>\n",
              "      <td>xxup xxunk \\n\\n\\n xxup supposing that xxmaj truth is a woman -- what then ? xxmaj is there not ground \\n for xxunk that all philosophers , in so far as they have been \\n dogmatists , have xxunk to understand women -- that the terrible \\n seriousness and clumsy xxunk with which they have usually paid \\n their xxunk to xxmaj truth , have been xxunk and unseemly methods for \\n</td>\n",
              "    </tr>\n",
              "    <tr>\n",
              "      <th>1</th>\n",
              "      <td>xxunk of movement , there are valuations , or to speak \\n more plainly , physiological demands , for the maintenance of a definite \\n mode of life xxmaj for example , that the certain is worth more than the \\n uncertain , that illusion is less valuable than \" truth \" such valuations , \\n in spite of their xxunk importance for xxup us , might notwithstanding be \\n only superficial</td>\n",
              "      <td>of movement , there are valuations , or to speak \\n more plainly , physiological demands , for the maintenance of a definite \\n mode of life xxmaj for example , that the certain is worth more than the \\n uncertain , that illusion is less valuable than \" truth \" such valuations , \\n in spite of their xxunk importance for xxup us , might notwithstanding be \\n only superficial valuations</td>\n",
              "    </tr>\n",
              "    <tr>\n",
              "      <th>2</th>\n",
              "      <td>will to the causa xxunk . \\n\\n 10 . xxmaj the eagerness and subtlety , i should even say craftiness , with \\n which the problem of \" the real and the apparent world \" is dealt with at \\n present throughout xxmaj europe , furnishes food for thought and attention ; and \\n he who hears only a \" will to xxmaj truth \" in the background , and nothing else</td>\n",
              "      <td>to the causa xxunk . \\n\\n 10 . xxmaj the eagerness and subtlety , i should even say craftiness , with \\n which the problem of \" the real and the apparent world \" is dealt with at \\n present throughout xxmaj europe , furnishes food for thought and attention ; and \\n he who hears only a \" will to xxmaj truth \" in the background , and nothing else ,</td>\n",
              "    </tr>\n",
              "    <tr>\n",
              "      <th>3</th>\n",
              "      <td>more xxunk time of it ; eventually , however , he finds \\n that precisely thereby he is also condemned to invent -- and , who knows ? \\n perhaps to xxup discover the new . \\n\\n 13 . xxmaj psychologists should xxunk themselves before putting down the \\n instinct of self - preservation as the xxunk instinct of an organic \\n being . a living thing seeks above all to xxup</td>\n",
              "      <td>xxunk time of it ; eventually , however , he finds \\n that precisely thereby he is also condemned to invent -- and , who knows ? \\n perhaps to xxup discover the new . \\n\\n 13 . xxmaj psychologists should xxunk themselves before putting down the \\n instinct of self - preservation as the xxunk instinct of an organic \\n being . a living thing seeks above all to xxup xxunk</td>\n",
              "    </tr>\n",
              "    <tr>\n",
              "      <th>4</th>\n",
              "      <td>not imagine it possible to xxunk this \\n thought from the \" willing , \" as if the will would then remain over ! \\n xxmaj in the third place , the will is not only a complex of sensation and \\n thinking , but it is above all an xxup emotion , and in fact the emotion of the \\n command . xxmaj that which is termed \" freedom of the</td>\n",
              "      <td>imagine it possible to xxunk this \\n thought from the \" willing , \" as if the will would then remain over ! \\n xxmaj in the third place , the will is not only a complex of sensation and \\n thinking , but it is above all an xxup emotion , and in fact the emotion of the \\n command . xxmaj that which is termed \" freedom of the will</td>\n",
              "    </tr>\n",
              "    <tr>\n",
              "      <th>5</th>\n",
              "      <td>and more refined atheism -- is once more \\n disguised . \" ni xxunk , ni xxunk , also , is what you want ; and \\n therefore \" xxunk for natural xxunk it not so ? xxmaj but , as has been \\n said , that is interpretation , not text ; and somebody might come along , \\n who , with opposite intentions and modes of interpretation , could read</td>\n",
              "      <td>more refined atheism -- is once more \\n disguised . \" ni xxunk , ni xxunk , also , is what you want ; and \\n therefore \" xxunk for natural xxunk it not so ? xxmaj but , as has been \\n said , that is interpretation , not text ; and somebody might come along , \\n who , with opposite intentions and modes of interpretation , could read \\n</td>\n",
              "    </tr>\n",
              "    <tr>\n",
              "      <th>6</th>\n",
              "      <td>more interesting than the exception -- than \\n myself , the exception ! \" xxmaj and he would go xxup down , and above all , he would \\n go \" inside . \" xxmaj the long and serious study of the xxup average man -- and \\n consequently much disguise , self - overcoming , xxunk , and bad \\n intercourse ( all intercourse is bad intercourse except with one 's</td>\n",
              "      <td>interesting than the exception -- than \\n myself , the exception ! \" xxmaj and he would go xxup down , and above all , he would \\n go \" inside . \" xxmaj the long and serious study of the xxup average man -- and \\n consequently much disguise , self - overcoming , xxunk , and bad \\n intercourse ( all intercourse is bad intercourse except with one 's \\n</td>\n",
              "    </tr>\n",
              "    <tr>\n",
              "      <th>7</th>\n",
              "      <td>which xxunk the xxunk to xxup their xxunk . xxmaj books for the \\n general reader are always ill - xxunk books , the odour of paltry people \\n xxunk to them . xxmaj where the populace xxunk and drink , and even where they \\n reverence , it is accustomed to xxunk . xxmaj one should not go into xxunk if \\n one wishes to xxunk xxup pure air . \\n\\n</td>\n",
              "      <td>xxunk the xxunk to xxup their xxunk . xxmaj books for the \\n general reader are always ill - xxunk books , the odour of paltry people \\n xxunk to them . xxmaj where the populace xxunk and drink , and even where they \\n reverence , it is accustomed to xxunk . xxmaj one should not go into xxunk if \\n one wishes to xxunk xxup pure air . \\n\\n xxunk</td>\n",
              "    </tr>\n",
              "    <tr>\n",
              "      <th>8</th>\n",
              "      <td>o humanity ! o xxunk ! xxmaj there is something xxunk in \\n \" the truth , \" and in the xxup xxunk for the truth ; and if man goes about it \\n too xxunk ne xxunk le xxunk que pour xxunk le xxunk xxunk he \\n finds nothing ! \\n\\n xxunk . xxmaj supposing that nothing else is \" given \" as real but our world of \\n desires and</td>\n",
              "      <td>humanity ! o xxunk ! xxmaj there is something xxunk in \\n \" the truth , \" and in the xxup xxunk for the truth ; and if man goes about it \\n too xxunk ne xxunk le xxunk que pour xxunk le xxunk xxunk he \\n finds nothing ! \\n\\n xxunk . xxmaj supposing that nothing else is \" given \" as real but our world of \\n desires and passions</td>\n",
              "    </tr>\n",
              "  </tbody>\n",
              "</table>"
            ],
            "text/plain": [
              "<IPython.core.display.HTML object>"
            ]
          },
          "metadata": {
            "tags": []
          }
        }
      ]
    },
    {
      "cell_type": "markdown",
      "metadata": {
        "id": "Ai-6XVuogccR",
        "colab_type": "text"
      },
      "source": [
        "## Model Fine-Tuning"
      ]
    },
    {
      "cell_type": "code",
      "metadata": {
        "id": "qpqzLOvY-JKH",
        "colab_type": "code",
        "colab": {}
      },
      "source": [
        "learn = language_model_learner(dls, AWD_LSTM, drop_mult=0.5, metrics=accuracy)"
      ],
      "execution_count": 67,
      "outputs": []
    },
    {
      "cell_type": "code",
      "metadata": {
        "id": "kPuASxBZAt9i",
        "colab_type": "code",
        "colab": {
          "base_uri": "https://localhost:8080/",
          "height": 229
        },
        "outputId": "5f9c35a6-27c3-42d2-cef9-b026856ff85b"
      },
      "source": [
        "# to ignore warnings about missing validaton set\n",
        "with warnings.catch_warnings():\n",
        "  warnings.simplefilter(\"ignore\")\n",
        "  learn.fine_tune(4, 1e-2)"
      ],
      "execution_count": 68,
      "outputs": [
        {
          "output_type": "display_data",
          "data": {
            "text/html": [
              "<table border=\"1\" class=\"dataframe\">\n",
              "  <thead>\n",
              "    <tr style=\"text-align: left;\">\n",
              "      <th>epoch</th>\n",
              "      <th>train_loss</th>\n",
              "      <th>valid_loss</th>\n",
              "      <th>accuracy</th>\n",
              "      <th>time</th>\n",
              "    </tr>\n",
              "  </thead>\n",
              "  <tbody>\n",
              "    <tr>\n",
              "      <td>0</td>\n",
              "      <td>5.154334</td>\n",
              "      <td>None</td>\n",
              "      <td>None</td>\n",
              "      <td>00:03</td>\n",
              "    </tr>\n",
              "  </tbody>\n",
              "</table>"
            ],
            "text/plain": [
              "<IPython.core.display.HTML object>"
            ]
          },
          "metadata": {
            "tags": []
          }
        },
        {
          "output_type": "display_data",
          "data": {
            "text/html": [
              "<table border=\"1\" class=\"dataframe\">\n",
              "  <thead>\n",
              "    <tr style=\"text-align: left;\">\n",
              "      <th>epoch</th>\n",
              "      <th>train_loss</th>\n",
              "      <th>valid_loss</th>\n",
              "      <th>accuracy</th>\n",
              "      <th>time</th>\n",
              "    </tr>\n",
              "  </thead>\n",
              "  <tbody>\n",
              "    <tr>\n",
              "      <td>0</td>\n",
              "      <td>4.442015</td>\n",
              "      <td>None</td>\n",
              "      <td>None</td>\n",
              "      <td>00:04</td>\n",
              "    </tr>\n",
              "    <tr>\n",
              "      <td>1</td>\n",
              "      <td>4.223275</td>\n",
              "      <td>None</td>\n",
              "      <td>None</td>\n",
              "      <td>00:04</td>\n",
              "    </tr>\n",
              "    <tr>\n",
              "      <td>2</td>\n",
              "      <td>4.043271</td>\n",
              "      <td>None</td>\n",
              "      <td>None</td>\n",
              "      <td>00:04</td>\n",
              "    </tr>\n",
              "    <tr>\n",
              "      <td>3</td>\n",
              "      <td>3.908360</td>\n",
              "      <td>None</td>\n",
              "      <td>None</td>\n",
              "      <td>00:04</td>\n",
              "    </tr>\n",
              "  </tbody>\n",
              "</table>"
            ],
            "text/plain": [
              "<IPython.core.display.HTML object>"
            ]
          },
          "metadata": {
            "tags": []
          }
        }
      ]
    },
    {
      "cell_type": "markdown",
      "metadata": {
        "id": "NqaPPz89vq3i",
        "colab_type": "text"
      },
      "source": [
        "## Text Generation"
      ]
    },
    {
      "cell_type": "code",
      "metadata": {
        "id": "v07jTUjQBWJx",
        "colab_type": "code",
        "colab": {
          "base_uri": "https://localhost:8080/",
          "height": 74
        },
        "outputId": "bbc8dc7e-fe35-4325-e7e5-5cc51fb1d672"
      },
      "source": [
        "TEXT = \"There is something\"\n",
        "N_SENTENCES = 2\n",
        "preds = [learn.predict(TEXT, N_WORDS, temperature=0.75) \n",
        "         for _ in range(N_SENTENCES)]\n",
        "preds[0]"
      ],
      "execution_count": 70,
      "outputs": [
        {
          "output_type": "display_data",
          "data": {
            "text/html": [
              ""
            ],
            "text/plain": [
              "<IPython.core.display.HTML object>"
            ]
          },
          "metadata": {
            "tags": []
          }
        },
        {
          "output_type": "display_data",
          "data": {
            "text/html": [
              ""
            ],
            "text/plain": [
              "<IPython.core.display.HTML object>"
            ]
          },
          "metadata": {
            "tags": []
          }
        },
        {
          "output_type": "execute_result",
          "data": {
            "text/plain": [
              "['There is something in the world in which all \\n seriousness is possible , and there are \\n are several reasons why a world is supposed to remain in existence , and why men should no longer know them . The most',\n",
              " 'There is something other , again , \\n \\n in common , as a sort of product of a series of \\n ideas which have really been a source of suspicion and reverence for the German people . In the same']"
            ]
          },
          "metadata": {
            "tags": []
          },
          "execution_count": 70
        }
      ]
    },
    {
      "cell_type": "markdown",
      "metadata": {
        "id": "ArelfTs4lRfT",
        "colab_type": "text"
      },
      "source": [
        "# Character-Level DNA Generation\n",
        "\n",
        "## Data"
      ]
    },
    {
      "cell_type": "code",
      "metadata": {
        "id": "B17WCPOKljhk",
        "colab_type": "code",
        "colab": {
          "base_uri": "https://localhost:8080/",
          "height": 236
        },
        "outputId": "5cdc59b0-ec65-4fef-f907-ab25669c9597"
      },
      "source": [
        "dt = pd.read_csv(\"https://raw.githubusercontent.com/ML-Bioinfo-CEITEC/ECCB2020/master/data/intergenomic_seqs_50k.csv\")\n",
        "dt = dt[:5000]   # take first 5000 (only 10% of data)\n",
        "\n",
        "# chr1 is used for validation\n",
        "train = dt[dt.chr!=\"1\"]\n",
        "valid = dt[dt.chr==\"1\"]\n",
        "\n",
        "print(dt.shape, train.shape, valid.shape, len(dt.seq[0]))\n",
        "dt.head()\n"
      ],
      "execution_count": 88,
      "outputs": [
        {
          "output_type": "stream",
          "text": [
            "(5000, 4) (4661, 4) (339, 4) 200\n"
          ],
          "name": "stdout"
        },
        {
          "output_type": "execute_result",
          "data": {
            "text/html": [
              "<div>\n",
              "<style scoped>\n",
              "    .dataframe tbody tr th:only-of-type {\n",
              "        vertical-align: middle;\n",
              "    }\n",
              "\n",
              "    .dataframe tbody tr th {\n",
              "        vertical-align: top;\n",
              "    }\n",
              "\n",
              "    .dataframe thead th {\n",
              "        text-align: right;\n",
              "    }\n",
              "</style>\n",
              "<table border=\"1\" class=\"dataframe\">\n",
              "  <thead>\n",
              "    <tr style=\"text-align: right;\">\n",
              "      <th></th>\n",
              "      <th>chr</th>\n",
              "      <th>start</th>\n",
              "      <th>end</th>\n",
              "      <th>seq</th>\n",
              "    </tr>\n",
              "  </thead>\n",
              "  <tbody>\n",
              "    <tr>\n",
              "      <th>0</th>\n",
              "      <td>17</td>\n",
              "      <td>14239397</td>\n",
              "      <td>14239596</td>\n",
              "      <td>AACTGGGATTCACAGGAGCTTAATGGAGCACATGATGTTAAGTGAAGTGAGCCAGGCACAAAAAGACAACTACCACGTGATCTGACTTATGTGGAATGTAAAACAATTGAACTCATGGAAGCAGAGAGTAGAATGGAGGATACCAGGGGCTGGGAGGCAGGGGTTTGGGGAGACGGTGAAAGCGTTCTAAAGTGTAGTTA</td>\n",
              "    </tr>\n",
              "    <tr>\n",
              "      <th>1</th>\n",
              "      <td>X</td>\n",
              "      <td>90928374</td>\n",
              "      <td>90928573</td>\n",
              "      <td>GCTAGTTGTATGGTTAGCAGCAAGATATTTTTTCTCTCTGATCTTTAATTTTCATATTTAAATTTGGCTAAGAGTACTTGCCTCTTAAAACTGTGTTGCTGGTATTACCAGAGTGTGGTATAATTAAAATATATATTTGCTTTTTGTCACCAGTTTCTCACACAGTACATCAAAAGCCCTTGCAATTTTCTGAGTGATAA</td>\n",
              "    </tr>\n",
              "    <tr>\n",
              "      <th>2</th>\n",
              "      <td>3</td>\n",
              "      <td>104278717</td>\n",
              "      <td>104278916</td>\n",
              "      <td>GACTTTGTAGACTTGTGTGACCTGTGTGCCTCCCTCTCCCCCCAAAAAAAACAAAAAAAATAAAGGATCTTGGGAAAGACTATATAAAAGGCAAGACTCCTTTAATGGAGGGGATATGCTAGATTGCCTCCCATTATGGCCCATGCCAAAGTGTTTAAACTTAGAAAAATGGTTCCAGTTTACTTCTGGGCTTAAAAATC</td>\n",
              "    </tr>\n",
              "    <tr>\n",
              "      <th>3</th>\n",
              "      <td>4</td>\n",
              "      <td>187089054</td>\n",
              "      <td>187089253</td>\n",
              "      <td>ATGTTAACACCAAATCAGTCCATCCTAATTATCACTCAAAAATCAAACATTTTTTAGGGAGGCAAAAACTGTCATGAGAACTACAATTTGATTTGGAGACTATTTCACTTATACAGTTTCTTCACATGATGACCAGCCTTCTTTCTTTAGTAATGGTTATTACTATGGCCATTGCTGTTAATTCTGTGACTTATCACTTC</td>\n",
              "    </tr>\n",
              "    <tr>\n",
              "      <th>4</th>\n",
              "      <td>2</td>\n",
              "      <td>137742849</td>\n",
              "      <td>137743048</td>\n",
              "      <td>GCAGGAGCTCTATCTGTTTGGACTAGTTCAGCCCCATCTCTTTTGGGGTGACTCGGGTGATGCTAAGCTTCCCAGGGCCATTGTGTTCTGTCTTCTGCCTCTGACTTTTTCCCTGCTACCCACATGAGCTTCTGCTATGCTCTCTTCTTTCCTGTCCAGAAATCATGTAGTAAGATGCTTTTTGGCTGGAGACCCTGAAA</td>\n",
              "    </tr>\n",
              "  </tbody>\n",
              "</table>\n",
              "</div>"
            ],
            "text/plain": [
              "  chr  ...                                                                                                                                                                                                       seq\n",
              "0  17  ...  AACTGGGATTCACAGGAGCTTAATGGAGCACATGATGTTAAGTGAAGTGAGCCAGGCACAAAAAGACAACTACCACGTGATCTGACTTATGTGGAATGTAAAACAATTGAACTCATGGAAGCAGAGAGTAGAATGGAGGATACCAGGGGCTGGGAGGCAGGGGTTTGGGGAGACGGTGAAAGCGTTCTAAAGTGTAGTTA\n",
              "1   X  ...  GCTAGTTGTATGGTTAGCAGCAAGATATTTTTTCTCTCTGATCTTTAATTTTCATATTTAAATTTGGCTAAGAGTACTTGCCTCTTAAAACTGTGTTGCTGGTATTACCAGAGTGTGGTATAATTAAAATATATATTTGCTTTTTGTCACCAGTTTCTCACACAGTACATCAAAAGCCCTTGCAATTTTCTGAGTGATAA\n",
              "2   3  ...  GACTTTGTAGACTTGTGTGACCTGTGTGCCTCCCTCTCCCCCCAAAAAAAACAAAAAAAATAAAGGATCTTGGGAAAGACTATATAAAAGGCAAGACTCCTTTAATGGAGGGGATATGCTAGATTGCCTCCCATTATGGCCCATGCCAAAGTGTTTAAACTTAGAAAAATGGTTCCAGTTTACTTCTGGGCTTAAAAATC\n",
              "3   4  ...  ATGTTAACACCAAATCAGTCCATCCTAATTATCACTCAAAAATCAAACATTTTTTAGGGAGGCAAAAACTGTCATGAGAACTACAATTTGATTTGGAGACTATTTCACTTATACAGTTTCTTCACATGATGACCAGCCTTCTTTCTTTAGTAATGGTTATTACTATGGCCATTGCTGTTAATTCTGTGACTTATCACTTC\n",
              "4   2  ...  GCAGGAGCTCTATCTGTTTGGACTAGTTCAGCCCCATCTCTTTTGGGGTGACTCGGGTGATGCTAAGCTTCCCAGGGCCATTGTGTTCTGTCTTCTGCCTCTGACTTTTTCCCTGCTACCCACATGAGCTTCTGCTATGCTCTCTTCTTTCCTGTCCAGAAATCATGTAGTAAGATGCTTTTTGGCTGGAGACCCTGAAA\n",
              "\n",
              "[5 rows x 4 columns]"
            ]
          },
          "metadata": {
            "tags": []
          },
          "execution_count": 88
        }
      ]
    },
    {
      "cell_type": "code",
      "metadata": {
        "id": "HTqtaNhbrcaB",
        "colab_type": "code",
        "colab": {}
      },
      "source": [
        "# splitting the file into training and test part\n",
        "\n",
        "!rm -rf split_tok\n",
        "!rm -rf split\n",
        "\n",
        "Path(\"split/train/1/\").mkdir(parents=True)\n",
        "Path(\"split/valid/1/\").mkdir(parents=True)\n",
        "\n",
        "for i, s in enumerate(train.seq):\n",
        "  open(\"split/train/1/seq\"+str(i)+\".txt\", 'w').writelines([s])\n",
        "for i, s in enumerate(valid.seq):\n",
        "  open(\"split/valid/1/seq\"+str(i)+\".txt\", 'w').writelines([s])"
      ],
      "execution_count": 89,
      "outputs": []
    },
    {
      "cell_type": "markdown",
      "metadata": {
        "id": "LDaKUQDWs_D6",
        "colab_type": "text"
      },
      "source": [
        "## Tokenizer"
      ]
    },
    {
      "cell_type": "code",
      "metadata": {
        "id": "bBmK3l9WsKn0",
        "colab_type": "code",
        "colab": {
          "base_uri": "https://localhost:8080/",
          "height": 217
        },
        "outputId": "825c4464-cd11-4bd5-cb47-84186cf1d9d2"
      },
      "source": [
        "!wget https://raw.githubusercontent.com/ML-Bioinfo-CEITEC/ECCB2020/master/notebooks/genomic_tokenizer2.py\n",
        "from genomic_tokenizer2 import tkn2"
      ],
      "execution_count": 83,
      "outputs": [
        {
          "output_type": "stream",
          "text": [
            "--2020-08-30 23:36:19--  https://raw.githubusercontent.com/ML-Bioinfo-CEITEC/ECCB2020/master/notebooks/genomic_tokenizer2.py\n",
            "Resolving raw.githubusercontent.com (raw.githubusercontent.com)... 151.101.0.133, 151.101.64.133, 151.101.128.133, ...\n",
            "Connecting to raw.githubusercontent.com (raw.githubusercontent.com)|151.101.0.133|:443... connected.\n",
            "HTTP request sent, awaiting response... 200 OK\n",
            "Length: 565 [text/plain]\n",
            "Saving to: ‘genomic_tokenizer2.py’\n",
            "\n",
            "\rgenomic_tokenizer2.   0%[                    ]       0  --.-KB/s               \rgenomic_tokenizer2. 100%[===================>]     565  --.-KB/s    in 0s      \n",
            "\n",
            "2020-08-30 23:36:19 (33.9 MB/s) - ‘genomic_tokenizer2.py’ saved [565/565]\n",
            "\n"
          ],
          "name": "stdout"
        }
      ]
    },
    {
      "cell_type": "code",
      "metadata": {
        "id": "lV53oCDOs6Xg",
        "colab_type": "code",
        "colab": {
          "base_uri": "https://localhost:8080/",
          "height": 35
        },
        "outputId": "9e7ef77c-5324-437a-e2c9-761c77e93cd1"
      },
      "source": [
        "tkn2(\"CGGCTAGC\")"
      ],
      "execution_count": 90,
      "outputs": [
        {
          "output_type": "execute_result",
          "data": {
            "text/plain": [
              "(#8) ['C','G','G','C','T','A','G','C']"
            ]
          },
          "metadata": {
            "tags": []
          },
          "execution_count": 90
        }
      ]
    },
    {
      "cell_type": "markdown",
      "metadata": {
        "id": "u-tTL338uxaW",
        "colab_type": "text"
      },
      "source": [
        "## Data Loaders"
      ]
    },
    {
      "cell_type": "code",
      "metadata": {
        "id": "wxHW0vb9ustA",
        "colab_type": "code",
        "colab": {}
      },
      "source": [
        "dls_lm = TextDataLoaders.from_folder(Path(\"./split\"), bs=128, seed=42, \n",
        "                                   is_lm=True, \n",
        "                                   tok_tfm=tkn2, seq_len=50)"
      ],
      "execution_count": 91,
      "outputs": []
    },
    {
      "cell_type": "code",
      "metadata": {
        "id": "NJgFUHsZu6pI",
        "colab_type": "code",
        "colab": {
          "base_uri": "https://localhost:8080/",
          "height": 474
        },
        "outputId": "49701339-f973-479b-9a23-511f9af2e317"
      },
      "source": [
        "dls_lm.show_batch()"
      ],
      "execution_count": 92,
      "outputs": [
        {
          "output_type": "display_data",
          "data": {
            "text/html": [
              "<table border=\"1\" class=\"dataframe\">\n",
              "  <thead>\n",
              "    <tr style=\"text-align: right;\">\n",
              "      <th></th>\n",
              "      <th>text</th>\n",
              "      <th>text_</th>\n",
              "    </tr>\n",
              "  </thead>\n",
              "  <tbody>\n",
              "    <tr>\n",
              "      <th>0</th>\n",
              "      <td>C A G G C A T A T A C T A G G A T T A T A C C T G T G C A C C A A G C C T A G A A A G T A A C C A G</td>\n",
              "      <td>A G G C A T A T A C T A G G A T T A T A C C T G T G C A C C A A G C C T A G A A A G T A A C C A G T</td>\n",
              "    </tr>\n",
              "    <tr>\n",
              "      <th>1</th>\n",
              "      <td>C C A C A G A C T G G G T G G C T T T G A C C A C A G A A A T T T C T T T T C T C A C A G T T T T G</td>\n",
              "      <td>C A C A G A C T G G G T G G C T T T G A C C A C A G A A A T T T C T T T T C T C A C A G T T T T G G</td>\n",
              "    </tr>\n",
              "    <tr>\n",
              "      <th>2</th>\n",
              "      <td>A G T T G C A T G G A G T T T T C C T C A T A T T T T A T G C C A T T T T C A G A T C A T T A T T A</td>\n",
              "      <td>G T T G C A T G G A G T T T T C C T C A T A T T T T A T G C C A T T T T C A G A T C A T T A T T A A</td>\n",
              "    </tr>\n",
              "    <tr>\n",
              "      <th>3</th>\n",
              "      <td>T A G T T T A A T G T A A T C C T A T T T G T C T A T T T T T G C T T T T G T G G T C T G T G T T T</td>\n",
              "      <td>A G T T T A A T G T A A T C C T A T T T G T C T A T T T T T G C T T T T G T G G T C T G T G T T T T</td>\n",
              "    </tr>\n",
              "    <tr>\n",
              "      <th>4</th>\n",
              "      <td>T T C T C A G A A G C A T C A T G G G G A T G T T T C A A T T G A A G T C A C A A T G T T G A A C A</td>\n",
              "      <td>T C T C A G A A G C A T C A T G G G G A T G T T T C A A T T G A A G T C A C A A T G T T G A A C A G</td>\n",
              "    </tr>\n",
              "    <tr>\n",
              "      <th>5</th>\n",
              "      <td>A C A T A G A A A A T G A C A A A C T G G A T G A T T A G T A G A A T A C T A T A G T G G A T T T G</td>\n",
              "      <td>C A T A G A A A A T G A C A A A C T G G A T G A T T A G T A G A A T A C T A T A G T G G A T T T G C</td>\n",
              "    </tr>\n",
              "    <tr>\n",
              "      <th>6</th>\n",
              "      <td>T T T T T A C T G C A G A T A A T C A T A A G T T G G T T A G A T T G G A C C T T C A T T G T G A A</td>\n",
              "      <td>T T T T A C T G C A G A T A A T C A T A A G T T G G T T A G A T T G G A C C T T C A T T G T G A A A</td>\n",
              "    </tr>\n",
              "    <tr>\n",
              "      <th>7</th>\n",
              "      <td>A C C A A C A G G A T T T G C T G A C A A A T T G G T T G A A T T A T G T T A A A G A T T A T T T A</td>\n",
              "      <td>C C A A C A G G A T T T G C T G A C A A A T T G G T T G A A T T A T G T T A A A G A T T A T T T A A</td>\n",
              "    </tr>\n",
              "    <tr>\n",
              "      <th>8</th>\n",
              "      <td>A G A A T T G G T C A C T T T C A T C A C A G C A T A G A A T G A C C G A A G C C T T G T G T A G A</td>\n",
              "      <td>G A A T T G G T C A C T T T C A T C A C A G C A T A G A A T G A C C G A A G C C T T G T G T A G A T</td>\n",
              "    </tr>\n",
              "  </tbody>\n",
              "</table>"
            ],
            "text/plain": [
              "<IPython.core.display.HTML object>"
            ]
          },
          "metadata": {
            "tags": []
          }
        }
      ]
    },
    {
      "cell_type": "markdown",
      "metadata": {
        "id": "M6nHx-afvEK9",
        "colab_type": "text"
      },
      "source": [
        "## Model Training"
      ]
    },
    {
      "cell_type": "code",
      "metadata": {
        "id": "KjfA4EhZvDU0",
        "colab_type": "code",
        "colab": {}
      },
      "source": [
        "learn = language_model_learner(\n",
        "    dls_lm, AWD_LSTM, drop_mult=0.3, pretrained=False, \n",
        "    metrics=[accuracy, Perplexity()])"
      ],
      "execution_count": 97,
      "outputs": []
    },
    {
      "cell_type": "code",
      "metadata": {
        "id": "ctOqZi77wXnG",
        "colab_type": "code",
        "colab": {
          "base_uri": "https://localhost:8080/",
          "height": 301
        },
        "outputId": "cd740183-9144-41c0-d6e8-447a858c93ea"
      },
      "source": [
        "learn.lr_find()"
      ],
      "execution_count": 98,
      "outputs": [
        {
          "output_type": "display_data",
          "data": {
            "text/html": [
              ""
            ],
            "text/plain": [
              "<IPython.core.display.HTML object>"
            ]
          },
          "metadata": {
            "tags": []
          }
        },
        {
          "output_type": "execute_result",
          "data": {
            "text/plain": [
              "SuggestedLRs(lr_min=0.025118863582611083, lr_steep=0.0003311311302240938)"
            ]
          },
          "metadata": {
            "tags": []
          },
          "execution_count": 98
        },
        {
          "output_type": "display_data",
          "data": {
            "image/png": "[encoded data removed]",
            "text/plain": [
              "<Figure size 432x288 with 1 Axes>"
            ]
          },
          "metadata": {
            "tags": [],
            "needs_background": "light"
          }
        }
      ]
    },
    {
      "cell_type": "code",
      "metadata": {
        "id": "Kdedp7I9vOe5",
        "colab_type": "code",
        "colab": {
          "base_uri": "https://localhost:8080/",
          "height": 108
        },
        "outputId": "43b1adce-36e8-4927-bc35-9f1264c47cbb"
      },
      "source": [
        "learn.fit_one_cycle(2, 1e-2)"
      ],
      "execution_count": 99,
      "outputs": [
        {
          "output_type": "display_data",
          "data": {
            "text/html": [
              "<table border=\"1\" class=\"dataframe\">\n",
              "  <thead>\n",
              "    <tr style=\"text-align: left;\">\n",
              "      <th>epoch</th>\n",
              "      <th>train_loss</th>\n",
              "      <th>valid_loss</th>\n",
              "      <th>accuracy</th>\n",
              "      <th>perplexity</th>\n",
              "      <th>time</th>\n",
              "    </tr>\n",
              "  </thead>\n",
              "  <tbody>\n",
              "    <tr>\n",
              "      <td>0</td>\n",
              "      <td>1.542010</td>\n",
              "      <td>1.378696</td>\n",
              "      <td>0.292834</td>\n",
              "      <td>3.969723</td>\n",
              "      <td>00:42</td>\n",
              "    </tr>\n",
              "    <tr>\n",
              "      <td>1</td>\n",
              "      <td>1.508617</td>\n",
              "      <td>1.379864</td>\n",
              "      <td>0.294111</td>\n",
              "      <td>3.974362</td>\n",
              "      <td>00:42</td>\n",
              "    </tr>\n",
              "  </tbody>\n",
              "</table>"
            ],
            "text/plain": [
              "<IPython.core.display.HTML object>"
            ]
          },
          "metadata": {
            "tags": []
          }
        }
      ]
    },
    {
      "cell_type": "markdown",
      "metadata": {
        "id": "LeyPay4sxTZc",
        "colab_type": "text"
      },
      "source": [
        "## DNA Generation"
      ]
    },
    {
      "cell_type": "code",
      "metadata": {
        "id": "IJAZk4gtxXgQ",
        "colab_type": "code",
        "colab": {
          "base_uri": "https://localhost:8080/",
          "height": 35
        },
        "outputId": "f7c65cec-b4dc-467e-c75e-c2bae8d0042b"
      },
      "source": [
        "learn.predict(\"CGCAT\", n_words=10, temperature=1)[::2]"
      ],
      "execution_count": 103,
      "outputs": [
        {
          "output_type": "display_data",
          "data": {
            "text/html": [
              ""
            ],
            "text/plain": [
              "<IPython.core.display.HTML object>"
            ]
          },
          "metadata": {
            "tags": []
          }
        },
        {
          "output_type": "execute_result",
          "data": {
            "application/vnd.google.colaboratory.intrinsic+json": {
              "type": "string"
            },
            "text/plain": [
              "'CGCATGTTAGTGTAT'"
            ]
          },
          "metadata": {
            "tags": []
          },
          "execution_count": 103
        }
      ]
    }
  ]
}