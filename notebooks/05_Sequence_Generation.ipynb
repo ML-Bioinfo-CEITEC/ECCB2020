{
  "nbformat": 4,
  "nbformat_minor": 0,
  "metadata": {
    "colab": {
      "name": "05_Sequence_Generation.ipynb",
      "provenance": [],
      "collapsed_sections": [],
      "toc_visible": true
    },
    "kernelspec": {
      "name": "python3",
      "display_name": "Python 3"
    },
    "accelerator": "GPU"
  },
  "cells": [
    {
      "cell_type": "markdown",
      "metadata": {
        "id": "TpyAVLnGShFA",
        "colab_type": "text"
      },
      "source": [
        "# Word-Level Text Generation"
      ]
    },
    {
      "cell_type": "markdown",
      "metadata": {
        "id": "_1JKRjQ_UErn",
        "colab_type": "text"
      },
      "source": [
        "## Setup"
      ]
    },
    {
      "cell_type": "code",
      "metadata": {
        "id": "cFN4SW1Kx9kL",
        "colab_type": "code",
        "colab": {
          "base_uri": "https://localhost:8080/",
          "height": 853
        },
        "outputId": "8ee7cf96-edeb-4bf2-b960-4b66d964a83f"
      },
      "source": [
        "!pip install fastai2\n",
        "\n",
        "from fastai2.text.all import *\n",
        "from pathlib import Path\n",
        "import urllib.request\n",
        "import warnings"
      ],
      "execution_count": null,
      "outputs": [
        {
          "output_type": "stream",
          "text": [
            "Collecting fastai2\n",
            "\u001b[?25l  Downloading https://files.pythonhosted.org/packages/cc/50/2f37212be57b7ee3e9c947336f75a66724468b21a3ca68734eaa82e7ebf3/fastai2-0.0.30-py3-none-any.whl (179kB)\n",
            "\r\u001b[K     |█▉                              | 10kB 30.9MB/s eta 0:00:01\r\u001b[K     |███▋                            | 20kB 3.1MB/s eta 0:00:01\r\u001b[K     |█████▌                          | 30kB 4.2MB/s eta 0:00:01\r\u001b[K     |███████▎                        | 40kB 4.5MB/s eta 0:00:01\r\u001b[K     |█████████▏                      | 51kB 3.7MB/s eta 0:00:01\r\u001b[K     |███████████                     | 61kB 4.1MB/s eta 0:00:01\r\u001b[K     |████████████▉                   | 71kB 4.5MB/s eta 0:00:01\r\u001b[K     |██████████████▋                 | 81kB 4.9MB/s eta 0:00:01\r\u001b[K     |████████████████▍               | 92kB 5.1MB/s eta 0:00:01\r\u001b[K     |██████████████████▎             | 102kB 5.0MB/s eta 0:00:01\r\u001b[K     |████████████████████            | 112kB 5.0MB/s eta 0:00:01\r\u001b[K     |██████████████████████          | 122kB 5.0MB/s eta 0:00:01\r\u001b[K     |███████████████████████▊        | 133kB 5.0MB/s eta 0:00:01\r\u001b[K     |█████████████████████████▋      | 143kB 5.0MB/s eta 0:00:01\r\u001b[K     |███████████████████████████▍    | 153kB 5.0MB/s eta 0:00:01\r\u001b[K     |█████████████████████████████▎  | 163kB 5.0MB/s eta 0:00:01\r\u001b[K     |███████████████████████████████ | 174kB 5.0MB/s eta 0:00:01\r\u001b[K     |████████████████████████████████| 184kB 5.0MB/s \n",
            "\u001b[?25hCollecting fastcore>=0.1.34\n",
            "  Downloading https://files.pythonhosted.org/packages/cc/92/233661d730b5613b4daf473cd28005bf2294fb1a858ce0bac57fbb7fa5ec/fastcore-1.0.0-py3-none-any.whl\n",
            "Requirement already satisfied: pandas in /usr/local/lib/python3.6/dist-packages (from fastai2) (1.0.5)\n",
            "Requirement already satisfied: spacy in /usr/local/lib/python3.6/dist-packages (from fastai2) (2.2.4)\n",
            "Requirement already satisfied: scikit-learn in /usr/local/lib/python3.6/dist-packages (from fastai2) (0.22.2.post1)\n",
            "Requirement already satisfied: requests in /usr/local/lib/python3.6/dist-packages (from fastai2) (2.23.0)\n",
            "Requirement already satisfied: torch>=1.6.0 in /usr/local/lib/python3.6/dist-packages (from fastai2) (1.6.0+cu101)\n",
            "Requirement already satisfied: torchvision>=0.7 in /usr/local/lib/python3.6/dist-packages (from fastai2) (0.7.0+cu101)\n",
            "Requirement already satisfied: pyyaml in /usr/local/lib/python3.6/dist-packages (from fastai2) (3.13)\n",
            "Requirement already satisfied: pip in /usr/local/lib/python3.6/dist-packages (from fastai2) (19.3.1)\n",
            "Requirement already satisfied: packaging in /usr/local/lib/python3.6/dist-packages (from fastai2) (20.4)\n",
            "Requirement already satisfied: fastprogress>=0.2.4 in /usr/local/lib/python3.6/dist-packages (from fastai2) (1.0.0)\n",
            "Requirement already satisfied: pillow in /usr/local/lib/python3.6/dist-packages (from fastai2) (7.0.0)\n",
            "Requirement already satisfied: scipy in /usr/local/lib/python3.6/dist-packages (from fastai2) (1.4.1)\n",
            "Requirement already satisfied: matplotlib in /usr/local/lib/python3.6/dist-packages (from fastai2) (3.2.2)\n",
            "Requirement already satisfied: numpy in /usr/local/lib/python3.6/dist-packages (from fastcore>=0.1.34->fastai2) (1.18.5)\n",
            "Requirement already satisfied: wheel in /usr/local/lib/python3.6/dist-packages (from fastcore>=0.1.34->fastai2) (0.35.1)\n",
            "Requirement already satisfied: dataclasses in /usr/local/lib/python3.6/dist-packages (from fastcore>=0.1.34->fastai2) (0.7)\n",
            "Requirement already satisfied: pytz>=2017.2 in /usr/local/lib/python3.6/dist-packages (from pandas->fastai2) (2018.9)\n",
            "Requirement already satisfied: python-dateutil>=2.6.1 in /usr/local/lib/python3.6/dist-packages (from pandas->fastai2) (2.8.1)\n",
            "Requirement already satisfied: srsly<1.1.0,>=1.0.2 in /usr/local/lib/python3.6/dist-packages (from spacy->fastai2) (1.0.2)\n",
            "Requirement already satisfied: wasabi<1.1.0,>=0.4.0 in /usr/local/lib/python3.6/dist-packages (from spacy->fastai2) (0.7.1)\n",
            "Requirement already satisfied: catalogue<1.1.0,>=0.0.7 in /usr/local/lib/python3.6/dist-packages (from spacy->fastai2) (1.0.0)\n",
            "Requirement already satisfied: cymem<2.1.0,>=2.0.2 in /usr/local/lib/python3.6/dist-packages (from spacy->fastai2) (2.0.3)\n",
            "Requirement already satisfied: preshed<3.1.0,>=3.0.2 in /usr/local/lib/python3.6/dist-packages (from spacy->fastai2) (3.0.2)\n",
            "Requirement already satisfied: setuptools in /usr/local/lib/python3.6/dist-packages (from spacy->fastai2) (49.6.0)\n",
            "Requirement already satisfied: thinc==7.4.0 in /usr/local/lib/python3.6/dist-packages (from spacy->fastai2) (7.4.0)\n",
            "Requirement already satisfied: murmurhash<1.1.0,>=0.28.0 in /usr/local/lib/python3.6/dist-packages (from spacy->fastai2) (1.0.2)\n",
            "Requirement already satisfied: blis<0.5.0,>=0.4.0 in /usr/local/lib/python3.6/dist-packages (from spacy->fastai2) (0.4.1)\n",
            "Requirement already satisfied: tqdm<5.0.0,>=4.38.0 in /usr/local/lib/python3.6/dist-packages (from spacy->fastai2) (4.41.1)\n",
            "Requirement already satisfied: plac<1.2.0,>=0.9.6 in /usr/local/lib/python3.6/dist-packages (from spacy->fastai2) (1.1.3)\n",
            "Requirement already satisfied: joblib>=0.11 in /usr/local/lib/python3.6/dist-packages (from scikit-learn->fastai2) (0.16.0)\n",
            "Requirement already satisfied: urllib3!=1.25.0,!=1.25.1,<1.26,>=1.21.1 in /usr/local/lib/python3.6/dist-packages (from requests->fastai2) (1.24.3)\n",
            "Requirement already satisfied: idna<3,>=2.5 in /usr/local/lib/python3.6/dist-packages (from requests->fastai2) (2.10)\n",
            "Requirement already satisfied: certifi>=2017.4.17 in /usr/local/lib/python3.6/dist-packages (from requests->fastai2) (2020.6.20)\n",
            "Requirement already satisfied: chardet<4,>=3.0.2 in /usr/local/lib/python3.6/dist-packages (from requests->fastai2) (3.0.4)\n",
            "Requirement already satisfied: future in /usr/local/lib/python3.6/dist-packages (from torch>=1.6.0->fastai2) (0.16.0)\n",
            "Requirement already satisfied: six in /usr/local/lib/python3.6/dist-packages (from packaging->fastai2) (1.15.0)\n",
            "Requirement already satisfied: pyparsing>=2.0.2 in /usr/local/lib/python3.6/dist-packages (from packaging->fastai2) (2.4.7)\n",
            "Requirement already satisfied: kiwisolver>=1.0.1 in /usr/local/lib/python3.6/dist-packages (from matplotlib->fastai2) (1.2.0)\n",
            "Requirement already satisfied: cycler>=0.10 in /usr/local/lib/python3.6/dist-packages (from matplotlib->fastai2) (0.10.0)\n",
            "Requirement already satisfied: importlib-metadata>=0.20; python_version < \"3.8\" in /usr/local/lib/python3.6/dist-packages (from catalogue<1.1.0,>=0.0.7->spacy->fastai2) (1.7.0)\n",
            "Requirement already satisfied: zipp>=0.5 in /usr/local/lib/python3.6/dist-packages (from importlib-metadata>=0.20; python_version < \"3.8\"->catalogue<1.1.0,>=0.0.7->spacy->fastai2) (3.1.0)\n",
            "Installing collected packages: fastcore, fastai2\n",
            "Successfully installed fastai2-0.0.30 fastcore-1.0.0\n"
          ],
          "name": "stdout"
        }
      ]
    },
    {
      "cell_type": "markdown",
      "metadata": {
        "id": "cJ83gacsUVuB",
        "colab_type": "text"
      },
      "source": [
        "## Text"
      ]
    },
    {
      "cell_type": "code",
      "metadata": {
        "id": "khYvd1_B9-sd",
        "colab_type": "code",
        "colab": {
          "base_uri": "https://localhost:8080/",
          "height": 34
        },
        "outputId": "e795c246-7874-4515-ab16-81ad17131698"
      },
      "source": [
        "# to clean, run !rm -rf data dta_tok\n",
        "Path(\"data\").mkdir(exist_ok=True)\n",
        "urllib.request.urlretrieve(\"https://s3.amazonaws.com/text-datasets/nietzsche.txt\", \"data/nietzsche.txt\")\n",
        "# Other possible text datasets\n",
        "# Shakespare sonnets, https://raw.githubusercontent.com/michaelrzhang/Char-RNN/master/data/sonnet.txt\n",
        "# Obama speaches, https://raw.githubusercontent.com/michaelrzhang/Char-RNN/master/data/obama.txt"
      ],
      "execution_count": null,
      "outputs": [
        {
          "output_type": "execute_result",
          "data": {
            "text/plain": [
              "('data/nietzsche.txt', <http.client.HTTPMessage at 0x7f2e3f4319b0>)"
            ]
          },
          "metadata": {
            "tags": []
          },
          "execution_count": 2
        }
      ]
    },
    {
      "cell_type": "code",
      "metadata": {
        "id": "cxHWYqJ_cNP2",
        "colab_type": "code",
        "colab": {
          "base_uri": "https://localhost:8080/",
          "height": 52
        },
        "outputId": "816d6e7e-5b4b-4fd4-da13-b694e58ec67e"
      },
      "source": [
        "# let us look at the beginning of file\n",
        "get_files(\"data\")[0].read()[:200]"
      ],
      "execution_count": null,
      "outputs": [
        {
          "output_type": "execute_result",
          "data": {
            "application/vnd.google.colaboratory.intrinsic+json": {
              "type": "string"
            },
            "text/plain": [
              "'PREFACE\\n\\n\\nSUPPOSING that Truth is a woman--what then? Is there not ground\\nfor suspecting that all philosophers, in so far as they have been\\ndogmatists, have failed to understand women--that the terrib'"
            ]
          },
          "metadata": {
            "tags": []
          },
          "execution_count": 4
        }
      ]
    },
    {
      "cell_type": "code",
      "metadata": {
        "id": "D72WtMFd5i8t",
        "colab_type": "code",
        "colab": {
          "base_uri": "https://localhost:8080/",
          "height": 17
        },
        "outputId": "4fd59f6e-65ac-41f9-ea98-4a9570356f57"
      },
      "source": [
        "dls = TextDataLoaders.from_folder(\"data\", is_lm=True, valid_pct=0)"
      ],
      "execution_count": null,
      "outputs": [
        {
          "output_type": "display_data",
          "data": {
            "text/html": [
              ""
            ],
            "text/plain": [
              "<IPython.core.display.HTML object>"
            ]
          },
          "metadata": {
            "tags": []
          }
        }
      ]
    },
    {
      "cell_type": "code",
      "metadata": {
        "id": "vc6ZkXiD-0OF",
        "colab_type": "code",
        "colab": {
          "base_uri": "https://localhost:8080/",
          "height": 736
        },
        "outputId": "ce2aaae1-07ae-4198-aefa-a76f64bda08f"
      },
      "source": [
        "dls.show_batch()"
      ],
      "execution_count": null,
      "outputs": [
        {
          "output_type": "display_data",
          "data": {
            "text/html": [
              "<table border=\"1\" class=\"dataframe\">\n",
              "  <thead>\n",
              "    <tr style=\"text-align: right;\">\n",
              "      <th></th>\n",
              "      <th>text</th>\n",
              "      <th>text_</th>\n",
              "    </tr>\n",
              "  </thead>\n",
              "  <tbody>\n",
              "    <tr>\n",
              "      <th>0</th>\n",
              "      <td>xxbos xxup xxunk \\n\\n\\n xxup supposing that xxmaj truth is a woman -- what then ? xxmaj is there not ground \\n for xxunk that all philosophers , in so far as they have been \\n dogmatists , have xxunk to understand women -- that the terrible \\n seriousness and clumsy xxunk with which they have usually paid \\n their xxunk to xxmaj truth , have been xxunk and unseemly methods for</td>\n",
              "      <td>xxup xxunk \\n\\n\\n xxup supposing that xxmaj truth is a woman -- what then ? xxmaj is there not ground \\n for xxunk that all philosophers , in so far as they have been \\n dogmatists , have xxunk to understand women -- that the terrible \\n seriousness and clumsy xxunk with which they have usually paid \\n their xxunk to xxmaj truth , have been xxunk and unseemly methods for \\n</td>\n",
              "    </tr>\n",
              "    <tr>\n",
              "      <th>1</th>\n",
              "      <td>xxunk of movement , there are valuations , or to speak \\n more plainly , physiological demands , for the maintenance of a definite \\n mode of life xxmaj for example , that the certain is worth more than the \\n uncertain , that illusion is less valuable than \" truth \" such valuations , \\n in spite of their xxunk importance for xxup us , might notwithstanding be \\n only superficial</td>\n",
              "      <td>of movement , there are valuations , or to speak \\n more plainly , physiological demands , for the maintenance of a definite \\n mode of life xxmaj for example , that the certain is worth more than the \\n uncertain , that illusion is less valuable than \" truth \" such valuations , \\n in spite of their xxunk importance for xxup us , might notwithstanding be \\n only superficial valuations</td>\n",
              "    </tr>\n",
              "    <tr>\n",
              "      <th>2</th>\n",
              "      <td>will to the causa xxunk . \\n\\n 10 . xxmaj the eagerness and subtlety , i should even say craftiness , with \\n which the problem of \" the real and the apparent world \" is dealt with at \\n present throughout xxmaj europe , furnishes food for thought and attention ; and \\n he who hears only a \" will to xxmaj truth \" in the background , and nothing else</td>\n",
              "      <td>to the causa xxunk . \\n\\n 10 . xxmaj the eagerness and subtlety , i should even say craftiness , with \\n which the problem of \" the real and the apparent world \" is dealt with at \\n present throughout xxmaj europe , furnishes food for thought and attention ; and \\n he who hears only a \" will to xxmaj truth \" in the background , and nothing else ,</td>\n",
              "    </tr>\n",
              "    <tr>\n",
              "      <th>3</th>\n",
              "      <td>more xxunk time of it ; eventually , however , he finds \\n that precisely thereby he is also condemned to invent -- and , who knows ? \\n perhaps to xxup discover the new . \\n\\n 13 . xxmaj psychologists should xxunk themselves before putting down the \\n instinct of self - preservation as the xxunk instinct of an organic \\n being . a living thing seeks above all to xxup</td>\n",
              "      <td>xxunk time of it ; eventually , however , he finds \\n that precisely thereby he is also condemned to invent -- and , who knows ? \\n perhaps to xxup discover the new . \\n\\n 13 . xxmaj psychologists should xxunk themselves before putting down the \\n instinct of self - preservation as the xxunk instinct of an organic \\n being . a living thing seeks above all to xxup xxunk</td>\n",
              "    </tr>\n",
              "    <tr>\n",
              "      <th>4</th>\n",
              "      <td>not imagine it possible to xxunk this \\n thought from the \" willing , \" as if the will would then remain over ! \\n xxmaj in the third place , the will is not only a complex of sensation and \\n thinking , but it is above all an xxup emotion , and in fact the emotion of the \\n command . xxmaj that which is termed \" freedom of the</td>\n",
              "      <td>imagine it possible to xxunk this \\n thought from the \" willing , \" as if the will would then remain over ! \\n xxmaj in the third place , the will is not only a complex of sensation and \\n thinking , but it is above all an xxup emotion , and in fact the emotion of the \\n command . xxmaj that which is termed \" freedom of the will</td>\n",
              "    </tr>\n",
              "    <tr>\n",
              "      <th>5</th>\n",
              "      <td>and more refined atheism -- is once more \\n disguised . \" ni xxunk , ni xxunk , also , is what you want ; and \\n therefore \" xxunk for natural xxunk it not so ? xxmaj but , as has been \\n said , that is interpretation , not text ; and somebody might come along , \\n who , with opposite intentions and modes of interpretation , could read</td>\n",
              "      <td>more refined atheism -- is once more \\n disguised . \" ni xxunk , ni xxunk , also , is what you want ; and \\n therefore \" xxunk for natural xxunk it not so ? xxmaj but , as has been \\n said , that is interpretation , not text ; and somebody might come along , \\n who , with opposite intentions and modes of interpretation , could read \\n</td>\n",
              "    </tr>\n",
              "    <tr>\n",
              "      <th>6</th>\n",
              "      <td>more interesting than the exception -- than \\n myself , the exception ! \" xxmaj and he would go xxup down , and above all , he would \\n go \" inside . \" xxmaj the long and serious study of the xxup average man -- and \\n consequently much disguise , self - overcoming , xxunk , and bad \\n intercourse ( all intercourse is bad intercourse except with one 's</td>\n",
              "      <td>interesting than the exception -- than \\n myself , the exception ! \" xxmaj and he would go xxup down , and above all , he would \\n go \" inside . \" xxmaj the long and serious study of the xxup average man -- and \\n consequently much disguise , self - overcoming , xxunk , and bad \\n intercourse ( all intercourse is bad intercourse except with one 's \\n</td>\n",
              "    </tr>\n",
              "    <tr>\n",
              "      <th>7</th>\n",
              "      <td>which xxunk the xxunk to xxup their xxunk . xxmaj books for the \\n general reader are always ill - xxunk books , the odour of paltry people \\n xxunk to them . xxmaj where the populace xxunk and drink , and even where they \\n reverence , it is accustomed to xxunk . xxmaj one should not go into xxunk if \\n one wishes to xxunk xxup pure air . \\n\\n</td>\n",
              "      <td>xxunk the xxunk to xxup their xxunk . xxmaj books for the \\n general reader are always ill - xxunk books , the odour of paltry people \\n xxunk to them . xxmaj where the populace xxunk and drink , and even where they \\n reverence , it is accustomed to xxunk . xxmaj one should not go into xxunk if \\n one wishes to xxunk xxup pure air . \\n\\n xxunk</td>\n",
              "    </tr>\n",
              "    <tr>\n",
              "      <th>8</th>\n",
              "      <td>o humanity ! o xxunk ! xxmaj there is something xxunk in \\n \" the truth , \" and in the xxup xxunk for the truth ; and if man goes about it \\n too xxunk ne xxunk le xxunk que pour xxunk le xxunk xxunk he \\n finds nothing ! \\n\\n xxunk . xxmaj supposing that nothing else is \" given \" as real but our world of \\n desires and</td>\n",
              "      <td>humanity ! o xxunk ! xxmaj there is something xxunk in \\n \" the truth , \" and in the xxup xxunk for the truth ; and if man goes about it \\n too xxunk ne xxunk le xxunk que pour xxunk le xxunk xxunk he \\n finds nothing ! \\n\\n xxunk . xxmaj supposing that nothing else is \" given \" as real but our world of \\n desires and passions</td>\n",
              "    </tr>\n",
              "  </tbody>\n",
              "</table>"
            ],
            "text/plain": [
              "<IPython.core.display.HTML object>"
            ]
          },
          "metadata": {
            "tags": []
          }
        }
      ]
    },
    {
      "cell_type": "markdown",
      "metadata": {
        "id": "Ai-6XVuogccR",
        "colab_type": "text"
      },
      "source": [
        "## Model Fine-Tuning"
      ]
    },
    {
      "cell_type": "code",
      "metadata": {
        "id": "qpqzLOvY-JKH",
        "colab_type": "code",
        "colab": {}
      },
      "source": [
        "learn = language_model_learner(dls, AWD_LSTM, drop_mult=0.5, metrics=accuracy, pretrained=True)"
      ],
      "execution_count": null,
      "outputs": []
    },
    {
      "cell_type": "code",
      "metadata": {
        "id": "kPuASxBZAt9i",
        "colab_type": "code",
        "colab": {
          "base_uri": "https://localhost:8080/",
          "height": 236
        },
        "outputId": "5fbabdec-13e5-4f32-9fea-01f14314b270"
      },
      "source": [
        "# to ignore warnings about missing validaton set\n",
        "with warnings.catch_warnings():\n",
        "  warnings.simplefilter(\"ignore\")\n",
        "  learn.fine_tune(4, 1e-2)"
      ],
      "execution_count": null,
      "outputs": [
        {
          "output_type": "display_data",
          "data": {
            "text/html": [
              "<table border=\"1\" class=\"dataframe\">\n",
              "  <thead>\n",
              "    <tr style=\"text-align: left;\">\n",
              "      <th>epoch</th>\n",
              "      <th>train_loss</th>\n",
              "      <th>valid_loss</th>\n",
              "      <th>accuracy</th>\n",
              "      <th>time</th>\n",
              "    </tr>\n",
              "  </thead>\n",
              "  <tbody>\n",
              "    <tr>\n",
              "      <td>0</td>\n",
              "      <td>5.161004</td>\n",
              "      <td>None</td>\n",
              "      <td>None</td>\n",
              "      <td>00:04</td>\n",
              "    </tr>\n",
              "  </tbody>\n",
              "</table>"
            ],
            "text/plain": [
              "<IPython.core.display.HTML object>"
            ]
          },
          "metadata": {
            "tags": []
          }
        },
        {
          "output_type": "display_data",
          "data": {
            "text/html": [
              "<table border=\"1\" class=\"dataframe\">\n",
              "  <thead>\n",
              "    <tr style=\"text-align: left;\">\n",
              "      <th>epoch</th>\n",
              "      <th>train_loss</th>\n",
              "      <th>valid_loss</th>\n",
              "      <th>accuracy</th>\n",
              "      <th>time</th>\n",
              "    </tr>\n",
              "  </thead>\n",
              "  <tbody>\n",
              "    <tr>\n",
              "      <td>0</td>\n",
              "      <td>4.430636</td>\n",
              "      <td>None</td>\n",
              "      <td>None</td>\n",
              "      <td>00:06</td>\n",
              "    </tr>\n",
              "    <tr>\n",
              "      <td>1</td>\n",
              "      <td>4.221169</td>\n",
              "      <td>None</td>\n",
              "      <td>None</td>\n",
              "      <td>00:06</td>\n",
              "    </tr>\n",
              "    <tr>\n",
              "      <td>2</td>\n",
              "      <td>4.042874</td>\n",
              "      <td>None</td>\n",
              "      <td>None</td>\n",
              "      <td>00:06</td>\n",
              "    </tr>\n",
              "    <tr>\n",
              "      <td>3</td>\n",
              "      <td>3.908915</td>\n",
              "      <td>None</td>\n",
              "      <td>None</td>\n",
              "      <td>00:06</td>\n",
              "    </tr>\n",
              "  </tbody>\n",
              "</table>"
            ],
            "text/plain": [
              "<IPython.core.display.HTML object>"
            ]
          },
          "metadata": {
            "tags": []
          }
        }
      ]
    },
    {
      "cell_type": "markdown",
      "metadata": {
        "id": "NqaPPz89vq3i",
        "colab_type": "text"
      },
      "source": [
        "## Text Generation"
      ]
    },
    {
      "cell_type": "code",
      "metadata": {
        "id": "v07jTUjQBWJx",
        "colab_type": "code",
        "colab": {
          "base_uri": "https://localhost:8080/",
          "height": 51
        },
        "outputId": "f6343b19-7a2e-43ab-f72a-6d8e94566404"
      },
      "source": [
        "TEXT = \"There is something\"\n",
        "N_SENTENCES = 2\n",
        "N_WORDS = 30\n",
        "preds = [learn.predict(TEXT, N_WORDS, temperature=0.75) \n",
        "         for _ in range(N_SENTENCES)]\n",
        "preds"
      ],
      "execution_count": null,
      "outputs": [
        {
          "output_type": "display_data",
          "data": {
            "text/html": [
              ""
            ],
            "text/plain": [
              "<IPython.core.display.HTML object>"
            ]
          },
          "metadata": {
            "tags": []
          }
        },
        {
          "output_type": "display_data",
          "data": {
            "text/html": [
              ""
            ],
            "text/plain": [
              "<IPython.core.display.HTML object>"
            ]
          },
          "metadata": {
            "tags": []
          }
        },
        {
          "output_type": "execute_result",
          "data": {
            "text/plain": [
              "['There is something that is \\n called \" self - denial \" ( or \" non - freedom \" ) . One must make use of \" free will \" , and',\n",
              " 'There is something in Asia that has been a \\n DOWNWARDS spirit of the \\n present century and a new , more refined type of \\n Asia -- which is']"
            ]
          },
          "metadata": {
            "tags": []
          },
          "execution_count": 22
        }
      ]
    },
    {
      "cell_type": "markdown",
      "metadata": {
        "id": "ArelfTs4lRfT",
        "colab_type": "text"
      },
      "source": [
        "# Character-Level DNA Generation\n",
        "\n",
        "## Data"
      ]
    },
    {
      "cell_type": "code",
      "metadata": {
        "id": "B17WCPOKljhk",
        "colab_type": "code",
        "colab": {
          "base_uri": "https://localhost:8080/",
          "height": 241
        },
        "outputId": "02e0fbdf-9e57-4dcb-ff1c-79d24726829d"
      },
      "source": [
        "dt = pd.read_csv(\"https://raw.githubusercontent.com/ML-Bioinfo-CEITEC/ECCB2020/master/data/intergenomic_seqs_50k.csv\")\n",
        "dt = dt[:5000]   # take first 5000 (only 10% of data)\n",
        "\n",
        "# chr1 is used for validation\n",
        "train = dt[dt.chr!=\"1\"]\n",
        "valid = dt[dt.chr==\"1\"]\n",
        "\n",
        "print(dt.shape, train.shape, valid.shape, len(dt.seq[0]))\n",
        "dt.head()\n"
      ],
      "execution_count": null,
      "outputs": [
        {
          "output_type": "stream",
          "text": [
            "(5000, 4) (4661, 4) (339, 4) 200\n"
          ],
          "name": "stdout"
        },
        {
          "output_type": "execute_result",
          "data": {
            "text/html": [
              "<div>\n",
              "<style scoped>\n",
              "    .dataframe tbody tr th:only-of-type {\n",
              "        vertical-align: middle;\n",
              "    }\n",
              "\n",
              "    .dataframe tbody tr th {\n",
              "        vertical-align: top;\n",
              "    }\n",
              "\n",
              "    .dataframe thead th {\n",
              "        text-align: right;\n",
              "    }\n",
              "</style>\n",
              "<table border=\"1\" class=\"dataframe\">\n",
              "  <thead>\n",
              "    <tr style=\"text-align: right;\">\n",
              "      <th></th>\n",
              "      <th>chr</th>\n",
              "      <th>start</th>\n",
              "      <th>end</th>\n",
              "      <th>seq</th>\n",
              "    </tr>\n",
              "  </thead>\n",
              "  <tbody>\n",
              "    <tr>\n",
              "      <th>0</th>\n",
              "      <td>17</td>\n",
              "      <td>14239397</td>\n",
              "      <td>14239596</td>\n",
              "      <td>AACTGGGATTCACAGGAGCTTAATGGAGCACATGATGTTAAGTGAAGTGAGCCAGGCACAAAAAGACAACTACCACGTGATCTGACTTATGTGGAATGTAAAACAATTGAACTCATGGAAGCAGAGAGTAGAATGGAGGATACCAGGGGCTGGGAGGCAGGGGTTTGGGGAGACGGTGAAAGCGTTCTAAAGTGTAGTTA</td>\n",
              "    </tr>\n",
              "    <tr>\n",
              "      <th>1</th>\n",
              "      <td>X</td>\n",
              "      <td>90928374</td>\n",
              "      <td>90928573</td>\n",
              "      <td>GCTAGTTGTATGGTTAGCAGCAAGATATTTTTTCTCTCTGATCTTTAATTTTCATATTTAAATTTGGCTAAGAGTACTTGCCTCTTAAAACTGTGTTGCTGGTATTACCAGAGTGTGGTATAATTAAAATATATATTTGCTTTTTGTCACCAGTTTCTCACACAGTACATCAAAAGCCCTTGCAATTTTCTGAGTGATAA</td>\n",
              "    </tr>\n",
              "    <tr>\n",
              "      <th>2</th>\n",
              "      <td>3</td>\n",
              "      <td>104278717</td>\n",
              "      <td>104278916</td>\n",
              "      <td>GACTTTGTAGACTTGTGTGACCTGTGTGCCTCCCTCTCCCCCCAAAAAAAACAAAAAAAATAAAGGATCTTGGGAAAGACTATATAAAAGGCAAGACTCCTTTAATGGAGGGGATATGCTAGATTGCCTCCCATTATGGCCCATGCCAAAGTGTTTAAACTTAGAAAAATGGTTCCAGTTTACTTCTGGGCTTAAAAATC</td>\n",
              "    </tr>\n",
              "    <tr>\n",
              "      <th>3</th>\n",
              "      <td>4</td>\n",
              "      <td>187089054</td>\n",
              "      <td>187089253</td>\n",
              "      <td>ATGTTAACACCAAATCAGTCCATCCTAATTATCACTCAAAAATCAAACATTTTTTAGGGAGGCAAAAACTGTCATGAGAACTACAATTTGATTTGGAGACTATTTCACTTATACAGTTTCTTCACATGATGACCAGCCTTCTTTCTTTAGTAATGGTTATTACTATGGCCATTGCTGTTAATTCTGTGACTTATCACTTC</td>\n",
              "    </tr>\n",
              "    <tr>\n",
              "      <th>4</th>\n",
              "      <td>2</td>\n",
              "      <td>137742849</td>\n",
              "      <td>137743048</td>\n",
              "      <td>GCAGGAGCTCTATCTGTTTGGACTAGTTCAGCCCCATCTCTTTTGGGGTGACTCGGGTGATGCTAAGCTTCCCAGGGCCATTGTGTTCTGTCTTCTGCCTCTGACTTTTTCCCTGCTACCCACATGAGCTTCTGCTATGCTCTCTTCTTTCCTGTCCAGAAATCATGTAGTAAGATGCTTTTTGGCTGGAGACCCTGAAA</td>\n",
              "    </tr>\n",
              "  </tbody>\n",
              "</table>\n",
              "</div>"
            ],
            "text/plain": [
              "  chr  ...                                                                                                                                                                                                       seq\n",
              "0  17  ...  AACTGGGATTCACAGGAGCTTAATGGAGCACATGATGTTAAGTGAAGTGAGCCAGGCACAAAAAGACAACTACCACGTGATCTGACTTATGTGGAATGTAAAACAATTGAACTCATGGAAGCAGAGAGTAGAATGGAGGATACCAGGGGCTGGGAGGCAGGGGTTTGGGGAGACGGTGAAAGCGTTCTAAAGTGTAGTTA\n",
              "1   X  ...  GCTAGTTGTATGGTTAGCAGCAAGATATTTTTTCTCTCTGATCTTTAATTTTCATATTTAAATTTGGCTAAGAGTACTTGCCTCTTAAAACTGTGTTGCTGGTATTACCAGAGTGTGGTATAATTAAAATATATATTTGCTTTTTGTCACCAGTTTCTCACACAGTACATCAAAAGCCCTTGCAATTTTCTGAGTGATAA\n",
              "2   3  ...  GACTTTGTAGACTTGTGTGACCTGTGTGCCTCCCTCTCCCCCCAAAAAAAACAAAAAAAATAAAGGATCTTGGGAAAGACTATATAAAAGGCAAGACTCCTTTAATGGAGGGGATATGCTAGATTGCCTCCCATTATGGCCCATGCCAAAGTGTTTAAACTTAGAAAAATGGTTCCAGTTTACTTCTGGGCTTAAAAATC\n",
              "3   4  ...  ATGTTAACACCAAATCAGTCCATCCTAATTATCACTCAAAAATCAAACATTTTTTAGGGAGGCAAAAACTGTCATGAGAACTACAATTTGATTTGGAGACTATTTCACTTATACAGTTTCTTCACATGATGACCAGCCTTCTTTCTTTAGTAATGGTTATTACTATGGCCATTGCTGTTAATTCTGTGACTTATCACTTC\n",
              "4   2  ...  GCAGGAGCTCTATCTGTTTGGACTAGTTCAGCCCCATCTCTTTTGGGGTGACTCGGGTGATGCTAAGCTTCCCAGGGCCATTGTGTTCTGTCTTCTGCCTCTGACTTTTTCCCTGCTACCCACATGAGCTTCTGCTATGCTCTCTTCTTTCCTGTCCAGAAATCATGTAGTAAGATGCTTTTTGGCTGGAGACCCTGAAA\n",
              "\n",
              "[5 rows x 4 columns]"
            ]
          },
          "metadata": {
            "tags": []
          },
          "execution_count": 23
        }
      ]
    },
    {
      "cell_type": "code",
      "metadata": {
        "id": "HTqtaNhbrcaB",
        "colab_type": "code",
        "colab": {}
      },
      "source": [
        "# splitting the file into training and test part\n",
        "\n",
        "!rm -rf split_tok\n",
        "!rm -rf split\n",
        "\n",
        "Path(\"split/train/1/\").mkdir(parents=True)\n",
        "Path(\"split/valid/1/\").mkdir(parents=True)\n",
        "\n",
        "for i, s in enumerate(train.seq):\n",
        "  open(\"split/train/1/seq\"+str(i)+\".txt\", 'w').writelines([s])\n",
        "for i, s in enumerate(valid.seq):\n",
        "  open(\"split/valid/1/seq\"+str(i)+\".txt\", 'w').writelines([s])"
      ],
      "execution_count": null,
      "outputs": []
    },
    {
      "cell_type": "markdown",
      "metadata": {
        "id": "LDaKUQDWs_D6",
        "colab_type": "text"
      },
      "source": [
        "## Tokenizer"
      ]
    },
    {
      "cell_type": "code",
      "metadata": {
        "id": "bBmK3l9WsKn0",
        "colab_type": "code",
        "colab": {
          "base_uri": "https://localhost:8080/",
          "height": 204
        },
        "outputId": "10548516-2b6f-43b9-efc2-42309b8e9a5b"
      },
      "source": [
        "!wget https://raw.githubusercontent.com/ML-Bioinfo-CEITEC/ECCB2020/master/notebooks/genomic_tokenizer2.py\n",
        "from genomic_tokenizer2 import tkn2"
      ],
      "execution_count": null,
      "outputs": [
        {
          "output_type": "stream",
          "text": [
            "--2020-08-31 14:06:39--  https://raw.githubusercontent.com/ML-Bioinfo-CEITEC/ECCB2020/master/notebooks/genomic_tokenizer2.py\n",
            "Resolving raw.githubusercontent.com (raw.githubusercontent.com)... 151.101.0.133, 151.101.64.133, 151.101.128.133, ...\n",
            "Connecting to raw.githubusercontent.com (raw.githubusercontent.com)|151.101.0.133|:443... connected.\n",
            "HTTP request sent, awaiting response... 200 OK\n",
            "Length: 565 [text/plain]\n",
            "Saving to: ‘genomic_tokenizer2.py.1’\n",
            "\n",
            "\rgenomic_tokenizer2.   0%[                    ]       0  --.-KB/s               \rgenomic_tokenizer2. 100%[===================>]     565  --.-KB/s    in 0s      \n",
            "\n",
            "2020-08-31 14:06:39 (32.9 MB/s) - ‘genomic_tokenizer2.py.1’ saved [565/565]\n",
            "\n"
          ],
          "name": "stdout"
        }
      ]
    },
    {
      "cell_type": "code",
      "metadata": {
        "id": "lV53oCDOs6Xg",
        "colab_type": "code",
        "colab": {
          "base_uri": "https://localhost:8080/",
          "height": 34
        },
        "outputId": "27d8289a-6e19-4bdf-ac79-7c75726bec50"
      },
      "source": [
        "tkn2(\"CGGCTAGC\")"
      ],
      "execution_count": null,
      "outputs": [
        {
          "output_type": "execute_result",
          "data": {
            "text/plain": [
              "(#8) ['C','G','G','C','T','A','G','C']"
            ]
          },
          "metadata": {
            "tags": []
          },
          "execution_count": 26
        }
      ]
    },
    {
      "cell_type": "markdown",
      "metadata": {
        "id": "u-tTL338uxaW",
        "colab_type": "text"
      },
      "source": [
        "## Data Loaders"
      ]
    },
    {
      "cell_type": "code",
      "metadata": {
        "id": "wxHW0vb9ustA",
        "colab_type": "code",
        "colab": {}
      },
      "source": [
        "dls_lm = TextDataLoaders.from_folder(Path(\"./split\"), bs=128, seed=42, \n",
        "                                   is_lm=True, \n",
        "                                   tok_tfm=tkn2, seq_len=50)"
      ],
      "execution_count": null,
      "outputs": []
    },
    {
      "cell_type": "code",
      "metadata": {
        "id": "NJgFUHsZu6pI",
        "colab_type": "code",
        "colab": {
          "base_uri": "https://localhost:8080/",
          "height": 328
        },
        "outputId": "67436c87-b969-4a3a-9083-3df41d226a91"
      },
      "source": [
        "dls_lm.show_batch()"
      ],
      "execution_count": null,
      "outputs": [
        {
          "output_type": "display_data",
          "data": {
            "text/html": [
              "<table border=\"1\" class=\"dataframe\">\n",
              "  <thead>\n",
              "    <tr style=\"text-align: right;\">\n",
              "      <th></th>\n",
              "      <th>text</th>\n",
              "      <th>text_</th>\n",
              "    </tr>\n",
              "  </thead>\n",
              "  <tbody>\n",
              "    <tr>\n",
              "      <th>0</th>\n",
              "      <td>G C C T G G C C A A T A T G G T G A A A C C C A A T C T C T A C T A A A A A A T A C A A A T A T A T</td>\n",
              "      <td>C C T G G C C A A T A T G G T G A A A C C C A A T C T C T A C T A A A A A A T A C A A A T A T A T G</td>\n",
              "    </tr>\n",
              "    <tr>\n",
              "      <th>1</th>\n",
              "      <td>A G C A A A G T T T C A G G A T A C C A A A C C A A T G T A C A C A A A G C A A T A G A A C T A C T</td>\n",
              "      <td>G C A A A G T T T C A G G A T A C C A A A C C A A T G T A C A C A A A G C A A T A G A A C T A C T A</td>\n",
              "    </tr>\n",
              "    <tr>\n",
              "      <th>2</th>\n",
              "      <td>G T T T T T C A T G T G T C G T G G A T C T G G A T A C A G G C T G T A T G C T G A G A A T G A T G</td>\n",
              "      <td>T T T T T C A T G T G T C G T G G A T C T G G A T A C A G G C T G T A T G C T G A G A A T G A T G G</td>\n",
              "    </tr>\n",
              "    <tr>\n",
              "      <th>3</th>\n",
              "      <td>T C G G A A A C T A A A A C T A A A T G C C C T G T A G A A T T A T C A A T C A T G T A A A T C C A</td>\n",
              "      <td>C G G A A A C T A A A A C T A A A T G C C C T G T A G A A T T A T C A A T C A T G T A A A T C C A G</td>\n",
              "    </tr>\n",
              "    <tr>\n",
              "      <th>4</th>\n",
              "      <td>T C A G T C A G T C A T C A G G G A G A A T C T A A A A T C T G G C A A C T G A A G A A C A G A C A</td>\n",
              "      <td>C A G T C A G T C A T C A G G G A G A A T C T A A A A T C T G G C A A C T G A A G A A C A G A C A C</td>\n",
              "    </tr>\n",
              "    <tr>\n",
              "      <th>5</th>\n",
              "      <td>C T G T C T A T G C T T C C A G T G A A A A G A G A A G C A A A G C T A T A G G A A A T T G G A A A</td>\n",
              "      <td>T G T C T A T G C T T C C A G T G A A A A G A G A A G C A A A G C T A T A G G A A A T T G G A A A G</td>\n",
              "    </tr>\n",
              "    <tr>\n",
              "      <th>6</th>\n",
              "      <td>A A A A A T G T A A T C T A A T A C A T T C A A A A A C T T G T G C T C A A G A G A A G G A A C A G</td>\n",
              "      <td>A A A A T G T A A T C T A A T A C A T T C A A A A A C T T G T G C T C A A G A G A A G G A A C A G A</td>\n",
              "    </tr>\n",
              "    <tr>\n",
              "      <th>7</th>\n",
              "      <td>G T C C T A T G A A G T A T T T G T A C C A T A A T A T T G T A G G C T C C T A T A C A T T A G T G</td>\n",
              "      <td>T C C T A T G A A G T A T T T G T A C C A T A A T A T T G T A G G C T C C T A T A C A T T A G T G A</td>\n",
              "    </tr>\n",
              "    <tr>\n",
              "      <th>8</th>\n",
              "      <td>G C A A A C A A A A C A A A G T C A A G T A A A A A A C A C A T A A A A A A C C T C T A T G C T T T</td>\n",
              "      <td>C A A A C A A A A C A A A G T C A A G T A A A A A A C A C A T A A A A A A C C T C T A T G C T T T C</td>\n",
              "    </tr>\n",
              "  </tbody>\n",
              "</table>"
            ],
            "text/plain": [
              "<IPython.core.display.HTML object>"
            ]
          },
          "metadata": {
            "tags": []
          }
        }
      ]
    },
    {
      "cell_type": "markdown",
      "metadata": {
        "id": "M6nHx-afvEK9",
        "colab_type": "text"
      },
      "source": [
        "## Model Training"
      ]
    },
    {
      "cell_type": "code",
      "metadata": {
        "id": "KjfA4EhZvDU0",
        "colab_type": "code",
        "colab": {}
      },
      "source": [
        "learn = language_model_learner(\n",
        "    dls_lm, AWD_LSTM, drop_mult=0.3, pretrained=False, \n",
        "    metrics=[accuracy, Perplexity()])"
      ],
      "execution_count": null,
      "outputs": []
    },
    {
      "cell_type": "code",
      "metadata": {
        "id": "ctOqZi77wXnG",
        "colab_type": "code",
        "colab": {
          "base_uri": "https://localhost:8080/",
          "height": 300
        },
        "outputId": "ce4b87f0-ab27-4657-9dfc-ee539770ef06"
      },
      "source": [
        "learn.lr_find()"
      ],
      "execution_count": null,
      "outputs": [
        {
          "output_type": "display_data",
          "data": {
            "text/html": [
              ""
            ],
            "text/plain": [
              "<IPython.core.display.HTML object>"
            ]
          },
          "metadata": {
            "tags": []
          }
        },
        {
          "output_type": "execute_result",
          "data": {
            "text/plain": [
              "SuggestedLRs(lr_min=0.03019951581954956, lr_steep=0.0003311311302240938)"
            ]
          },
          "metadata": {
            "tags": []
          },
          "execution_count": 33
        },
        {
          "output_type": "display_data",
          "data": {
            "image/png": "[encoded data removed]",
            "text/plain": [
              "<Figure size 432x288 with 1 Axes>"
            ]
          },
          "metadata": {
            "tags": [],
            "needs_background": "light"
          }
        }
      ]
    },
    {
      "cell_type": "code",
      "metadata": {
        "id": "Kdedp7I9vOe5",
        "colab_type": "code",
        "colab": {
          "base_uri": "https://localhost:8080/",
          "height": 111
        },
        "outputId": "e7800e17-9eb0-42a9-ac37-824957c5895d"
      },
      "source": [
        "learn.fit_one_cycle(2, 1e-2)"
      ],
      "execution_count": null,
      "outputs": [
        {
          "output_type": "display_data",
          "data": {
            "text/html": [
              "<table border=\"1\" class=\"dataframe\">\n",
              "  <thead>\n",
              "    <tr style=\"text-align: left;\">\n",
              "      <th>epoch</th>\n",
              "      <th>train_loss</th>\n",
              "      <th>valid_loss</th>\n",
              "      <th>accuracy</th>\n",
              "      <th>perplexity</th>\n",
              "      <th>time</th>\n",
              "    </tr>\n",
              "  </thead>\n",
              "  <tbody>\n",
              "    <tr>\n",
              "      <td>0</td>\n",
              "      <td>1.551815</td>\n",
              "      <td>1.369198</td>\n",
              "      <td>0.294755</td>\n",
              "      <td>3.932197</td>\n",
              "      <td>00:52</td>\n",
              "    </tr>\n",
              "    <tr>\n",
              "      <td>1</td>\n",
              "      <td>1.429831</td>\n",
              "      <td>1.355422</td>\n",
              "      <td>0.314843</td>\n",
              "      <td>3.878396</td>\n",
              "      <td>00:51</td>\n",
              "    </tr>\n",
              "  </tbody>\n",
              "</table>"
            ],
            "text/plain": [
              "<IPython.core.display.HTML object>"
            ]
          },
          "metadata": {
            "tags": []
          }
        }
      ]
    },
    {
      "cell_type": "markdown",
      "metadata": {
        "id": "LeyPay4sxTZc",
        "colab_type": "text"
      },
      "source": [
        "## DNA Generation"
      ]
    },
    {
      "cell_type": "code",
      "metadata": {
        "id": "IJAZk4gtxXgQ",
        "colab_type": "code",
        "colab": {
          "base_uri": "https://localhost:8080/",
          "height": 35
        },
        "outputId": "547be0bf-8a72-45bc-f734-18d27de2f25f"
      },
      "source": [
        "learn.predict(\"CGCAT\", n_words=20, temperature=1)[::2]"
      ],
      "execution_count": null,
      "outputs": [
        {
          "output_type": "display_data",
          "data": {
            "text/html": [
              ""
            ],
            "text/plain": [
              "<IPython.core.display.HTML object>"
            ]
          },
          "metadata": {
            "tags": []
          }
        },
        {
          "output_type": "execute_result",
          "data": {
            "application/vnd.google.colaboratory.intrinsic+json": {
              "type": "string"
            },
            "text/plain": [
              "'CGCATCAGGAAATCGCTATAGTGTT'"
            ]
          },
          "metadata": {
            "tags": []
          },
          "execution_count": 35
        }
      ]
    }
  ]
}