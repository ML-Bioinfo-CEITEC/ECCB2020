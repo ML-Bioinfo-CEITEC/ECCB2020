{
  "nbformat": 4,
  "nbformat_minor": 0,
  "metadata": {
    "colab": {
      "name": "06_Sequence_Classification.ipynb",
      "provenance": [],
      "collapsed_sections": [],
      "toc_visible": true
    },
    "kernelspec": {
      "name": "python3",
      "display_name": "Python 3"
    },
    "accelerator": "GPU"
  },
  "cells": [
    {
      "cell_type": "markdown",
      "metadata": {
        "id": "TpyAVLnGShFA",
        "colab_type": "text"
      },
      "source": [
        "# Train a text classifier from a pretrained model"
      ]
    },
    {
      "cell_type": "markdown",
      "metadata": {
        "id": "_1JKRjQ_UErn",
        "colab_type": "text"
      },
      "source": [
        "## Setup"
      ]
    },
    {
      "cell_type": "code",
      "metadata": {
        "id": "cFN4SW1Kx9kL",
        "colab_type": "code",
        "colab": {
          "base_uri": "https://localhost:8080/",
          "height": 910
        },
        "outputId": "5cb71f4e-6bf4-40de-e01f-3a9e9680226b"
      },
      "source": [
        "!pip install fastai2\n",
        "\n",
        "from fastai2.text.all import *\n",
        "from pathlib import Path\n",
        "import urllib.request"
      ],
      "execution_count": null,
      "outputs": [
        {
          "output_type": "stream",
          "text": [
            "Collecting fastai2\n",
            "\u001b[?25l  Downloading https://files.pythonhosted.org/packages/cc/50/2f37212be57b7ee3e9c947336f75a66724468b21a3ca68734eaa82e7ebf3/fastai2-0.0.30-py3-none-any.whl (179kB)\n",
            "\r\u001b[K     |█▉                              | 10kB 23.7MB/s eta 0:00:01\r\u001b[K     |███▋                            | 20kB 6.3MB/s eta 0:00:01\r\u001b[K     |█████▌                          | 30kB 6.7MB/s eta 0:00:01\r\u001b[K     |███████▎                        | 40kB 5.6MB/s eta 0:00:01\r\u001b[K     |█████████▏                      | 51kB 5.1MB/s eta 0:00:01\r\u001b[K     |███████████                     | 61kB 5.0MB/s eta 0:00:01\r\u001b[K     |████████████▉                   | 71kB 4.9MB/s eta 0:00:01\r\u001b[K     |██████████████▋                 | 81kB 4.8MB/s eta 0:00:01\r\u001b[K     |████████████████▍               | 92kB 4.9MB/s eta 0:00:01\r\u001b[K     |██████████████████▎             | 102kB 4.9MB/s eta 0:00:01\r\u001b[K     |████████████████████            | 112kB 4.9MB/s eta 0:00:01\r\u001b[K     |██████████████████████          | 122kB 4.9MB/s eta 0:00:01\r\u001b[K     |███████████████████████▊        | 133kB 4.9MB/s eta 0:00:01\r\u001b[K     |█████████████████████████▋      | 143kB 4.9MB/s eta 0:00:01\r\u001b[K     |███████████████████████████▍    | 153kB 4.9MB/s eta 0:00:01\r\u001b[K     |█████████████████████████████▎  | 163kB 4.9MB/s eta 0:00:01\r\u001b[K     |███████████████████████████████ | 174kB 4.9MB/s eta 0:00:01\r\u001b[K     |████████████████████████████████| 184kB 4.9MB/s \n",
            "\u001b[?25hRequirement already satisfied: pyyaml in /usr/local/lib/python3.6/dist-packages (from fastai2) (3.13)\n",
            "Requirement already satisfied: torch>=1.6.0 in /usr/local/lib/python3.6/dist-packages (from fastai2) (1.6.0+cu101)\n",
            "Requirement already satisfied: pillow in /usr/local/lib/python3.6/dist-packages (from fastai2) (7.0.0)\n",
            "Requirement already satisfied: fastprogress>=0.2.4 in /usr/local/lib/python3.6/dist-packages (from fastai2) (1.0.0)\n",
            "Requirement already satisfied: scipy in /usr/local/lib/python3.6/dist-packages (from fastai2) (1.4.1)\n",
            "Requirement already satisfied: packaging in /usr/local/lib/python3.6/dist-packages (from fastai2) (20.4)\n",
            "Requirement already satisfied: spacy in /usr/local/lib/python3.6/dist-packages (from fastai2) (2.2.4)\n",
            "Requirement already satisfied: pip in /usr/local/lib/python3.6/dist-packages (from fastai2) (19.3.1)\n",
            "Requirement already satisfied: pandas in /usr/local/lib/python3.6/dist-packages (from fastai2) (1.0.5)\n",
            "Requirement already satisfied: matplotlib in /usr/local/lib/python3.6/dist-packages (from fastai2) (3.2.2)\n",
            "Requirement already satisfied: scikit-learn in /usr/local/lib/python3.6/dist-packages (from fastai2) (0.22.2.post1)\n",
            "Collecting fastcore>=0.1.34\n",
            "  Downloading https://files.pythonhosted.org/packages/cc/92/233661d730b5613b4daf473cd28005bf2294fb1a858ce0bac57fbb7fa5ec/fastcore-1.0.0-py3-none-any.whl\n",
            "Requirement already satisfied: requests in /usr/local/lib/python3.6/dist-packages (from fastai2) (2.23.0)\n",
            "Requirement already satisfied: torchvision>=0.7 in /usr/local/lib/python3.6/dist-packages (from fastai2) (0.7.0+cu101)\n",
            "Requirement already satisfied: future in /usr/local/lib/python3.6/dist-packages (from torch>=1.6.0->fastai2) (0.16.0)\n",
            "Requirement already satisfied: numpy in /usr/local/lib/python3.6/dist-packages (from torch>=1.6.0->fastai2) (1.18.5)\n",
            "Requirement already satisfied: six in /usr/local/lib/python3.6/dist-packages (from packaging->fastai2) (1.15.0)\n",
            "Requirement already satisfied: pyparsing>=2.0.2 in /usr/local/lib/python3.6/dist-packages (from packaging->fastai2) (2.4.7)\n",
            "Requirement already satisfied: srsly<1.1.0,>=1.0.2 in /usr/local/lib/python3.6/dist-packages (from spacy->fastai2) (1.0.2)\n",
            "Requirement already satisfied: setuptools in /usr/local/lib/python3.6/dist-packages (from spacy->fastai2) (49.6.0)\n",
            "Requirement already satisfied: thinc==7.4.0 in /usr/local/lib/python3.6/dist-packages (from spacy->fastai2) (7.4.0)\n",
            "Requirement already satisfied: plac<1.2.0,>=0.9.6 in /usr/local/lib/python3.6/dist-packages (from spacy->fastai2) (1.1.3)\n",
            "Requirement already satisfied: catalogue<1.1.0,>=0.0.7 in /usr/local/lib/python3.6/dist-packages (from spacy->fastai2) (1.0.0)\n",
            "Requirement already satisfied: blis<0.5.0,>=0.4.0 in /usr/local/lib/python3.6/dist-packages (from spacy->fastai2) (0.4.1)\n",
            "Requirement already satisfied: preshed<3.1.0,>=3.0.2 in /usr/local/lib/python3.6/dist-packages (from spacy->fastai2) (3.0.2)\n",
            "Requirement already satisfied: cymem<2.1.0,>=2.0.2 in /usr/local/lib/python3.6/dist-packages (from spacy->fastai2) (2.0.3)\n",
            "Requirement already satisfied: murmurhash<1.1.0,>=0.28.0 in /usr/local/lib/python3.6/dist-packages (from spacy->fastai2) (1.0.2)\n",
            "Requirement already satisfied: tqdm<5.0.0,>=4.38.0 in /usr/local/lib/python3.6/dist-packages (from spacy->fastai2) (4.41.1)\n",
            "Requirement already satisfied: wasabi<1.1.0,>=0.4.0 in /usr/local/lib/python3.6/dist-packages (from spacy->fastai2) (0.7.1)\n",
            "Requirement already satisfied: pytz>=2017.2 in /usr/local/lib/python3.6/dist-packages (from pandas->fastai2) (2018.9)\n",
            "Requirement already satisfied: python-dateutil>=2.6.1 in /usr/local/lib/python3.6/dist-packages (from pandas->fastai2) (2.8.1)\n",
            "Requirement already satisfied: cycler>=0.10 in /usr/local/lib/python3.6/dist-packages (from matplotlib->fastai2) (0.10.0)\n",
            "Requirement already satisfied: kiwisolver>=1.0.1 in /usr/local/lib/python3.6/dist-packages (from matplotlib->fastai2) (1.2.0)\n",
            "Requirement already satisfied: joblib>=0.11 in /usr/local/lib/python3.6/dist-packages (from scikit-learn->fastai2) (0.16.0)\n",
            "Requirement already satisfied: dataclasses in /usr/local/lib/python3.6/dist-packages (from fastcore>=0.1.34->fastai2) (0.7)\n",
            "Requirement already satisfied: wheel in /usr/local/lib/python3.6/dist-packages (from fastcore>=0.1.34->fastai2) (0.35.1)\n",
            "Requirement already satisfied: certifi>=2017.4.17 in /usr/local/lib/python3.6/dist-packages (from requests->fastai2) (2020.6.20)\n",
            "Requirement already satisfied: chardet<4,>=3.0.2 in /usr/local/lib/python3.6/dist-packages (from requests->fastai2) (3.0.4)\n",
            "Requirement already satisfied: urllib3!=1.25.0,!=1.25.1,<1.26,>=1.21.1 in /usr/local/lib/python3.6/dist-packages (from requests->fastai2) (1.24.3)\n",
            "Requirement already satisfied: idna<3,>=2.5 in /usr/local/lib/python3.6/dist-packages (from requests->fastai2) (2.10)\n",
            "Requirement already satisfied: importlib-metadata>=0.20; python_version < \"3.8\" in /usr/local/lib/python3.6/dist-packages (from catalogue<1.1.0,>=0.0.7->spacy->fastai2) (1.7.0)\n",
            "Requirement already satisfied: zipp>=0.5 in /usr/local/lib/python3.6/dist-packages (from importlib-metadata>=0.20; python_version < \"3.8\"->catalogue<1.1.0,>=0.0.7->spacy->fastai2) (3.1.0)\n",
            "Installing collected packages: fastcore, fastai2\n",
            "Successfully installed fastai2-0.0.30 fastcore-1.0.0\n"
          ],
          "name": "stdout"
        }
      ]
    },
    {
      "cell_type": "markdown",
      "metadata": {
        "id": "cJ83gacsUVuB",
        "colab_type": "text"
      },
      "source": [
        "## Text"
      ]
    },
    {
      "cell_type": "code",
      "metadata": {
        "id": "khYvd1_B9-sd",
        "colab_type": "code",
        "colab": {
          "base_uri": "https://localhost:8080/",
          "height": 55
        },
        "outputId": "27a0732d-805e-44f1-c582-151eaccb7797"
      },
      "source": [
        "path = untar_data(URLs.IMDB)\n",
        "path.ls()"
      ],
      "execution_count": null,
      "outputs": [
        {
          "output_type": "display_data",
          "data": {
            "text/html": [
              ""
            ],
            "text/plain": [
              "<IPython.core.display.HTML object>"
            ]
          },
          "metadata": {
            "tags": []
          }
        },
        {
          "output_type": "execute_result",
          "data": {
            "text/plain": [
              "(#7) [Path('/root/.fastai/data/imdb/README'),Path('/root/.fastai/data/imdb/train'),Path('/root/.fastai/data/imdb/tmp_clas'),Path('/root/.fastai/data/imdb/tmp_lm'),Path('/root/.fastai/data/imdb/imdb.vocab'),Path('/root/.fastai/data/imdb/unsup'),Path('/root/.fastai/data/imdb/test')]"
            ]
          },
          "metadata": {
            "tags": []
          },
          "execution_count": 2
        }
      ]
    },
    {
      "cell_type": "code",
      "metadata": {
        "id": "cxHWYqJ_cNP2",
        "colab_type": "code",
        "colab": {
          "base_uri": "https://localhost:8080/",
          "height": 55
        },
        "outputId": "b1c1db17-7438-464e-b879-7e7cd41c0538"
      },
      "source": [
        "(path/'train').ls()"
      ],
      "execution_count": null,
      "outputs": [
        {
          "output_type": "execute_result",
          "data": {
            "text/plain": [
              "(#4) [Path('/root/.fastai/data/imdb/train/unsupBow.feat'),Path('/root/.fastai/data/imdb/train/pos'),Path('/root/.fastai/data/imdb/train/neg'),Path('/root/.fastai/data/imdb/train/labeledBow.feat')]"
            ]
          },
          "metadata": {
            "tags": []
          },
          "execution_count": 3
        }
      ]
    },
    {
      "cell_type": "code",
      "metadata": {
        "id": "D72WtMFd5i8t",
        "colab_type": "code",
        "colab": {
          "base_uri": "https://localhost:8080/",
          "height": 17
        },
        "outputId": "80d03138-999f-4449-a70d-08425d3106d9"
      },
      "source": [
        "dls = TextDataLoaders.from_folder(path, valid='test')"
      ],
      "execution_count": null,
      "outputs": [
        {
          "output_type": "display_data",
          "data": {
            "text/html": [
              ""
            ],
            "text/plain": [
              "<IPython.core.display.HTML object>"
            ]
          },
          "metadata": {
            "tags": []
          }
        }
      ]
    },
    {
      "cell_type": "markdown",
      "metadata": {
        "id": "Ai-6XVuogccR",
        "colab_type": "text"
      },
      "source": [
        "## Model Fine-Tuning"
      ]
    },
    {
      "cell_type": "code",
      "metadata": {
        "id": "qpqzLOvY-JKH",
        "colab_type": "code",
        "colab": {
          "base_uri": "https://localhost:8080/",
          "height": 17
        },
        "outputId": "a3ad079c-44b4-4bb6-d696-a7f8735eadf4"
      },
      "source": [
        "learn = text_classifier_learner(dls, AWD_LSTM, drop_mult=0.5, metrics=accuracy)"
      ],
      "execution_count": null,
      "outputs": [
        {
          "output_type": "display_data",
          "data": {
            "text/html": [
              ""
            ],
            "text/plain": [
              "<IPython.core.display.HTML object>"
            ]
          },
          "metadata": {
            "tags": []
          }
        }
      ]
    },
    {
      "cell_type": "code",
      "metadata": {
        "id": "kPuASxBZAt9i",
        "colab_type": "code",
        "colab": {
          "base_uri": "https://localhost:8080/",
          "height": 229
        },
        "outputId": "29e10eab-d746-4921-f2d8-e1936449303d"
      },
      "source": [
        "learn.fine_tune(4, 1e-2)"
      ],
      "execution_count": null,
      "outputs": [
        {
          "output_type": "display_data",
          "data": {
            "text/html": [
              "<table border=\"1\" class=\"dataframe\">\n",
              "  <thead>\n",
              "    <tr style=\"text-align: left;\">\n",
              "      <th>epoch</th>\n",
              "      <th>train_loss</th>\n",
              "      <th>valid_loss</th>\n",
              "      <th>accuracy</th>\n",
              "      <th>time</th>\n",
              "    </tr>\n",
              "  </thead>\n",
              "  <tbody>\n",
              "    <tr>\n",
              "      <td>0</td>\n",
              "      <td>0.602154</td>\n",
              "      <td>0.382897</td>\n",
              "      <td>0.830280</td>\n",
              "      <td>02:17</td>\n",
              "    </tr>\n",
              "  </tbody>\n",
              "</table>"
            ],
            "text/plain": [
              "<IPython.core.display.HTML object>"
            ]
          },
          "metadata": {
            "tags": []
          }
        },
        {
          "output_type": "display_data",
          "data": {
            "text/html": [
              "<table border=\"1\" class=\"dataframe\">\n",
              "  <thead>\n",
              "    <tr style=\"text-align: left;\">\n",
              "      <th>epoch</th>\n",
              "      <th>train_loss</th>\n",
              "      <th>valid_loss</th>\n",
              "      <th>accuracy</th>\n",
              "      <th>time</th>\n",
              "    </tr>\n",
              "  </thead>\n",
              "  <tbody>\n",
              "    <tr>\n",
              "      <td>0</td>\n",
              "      <td>0.324317</td>\n",
              "      <td>0.275881</td>\n",
              "      <td>0.881200</td>\n",
              "      <td>04:13</td>\n",
              "    </tr>\n",
              "    <tr>\n",
              "      <td>1</td>\n",
              "      <td>0.238823</td>\n",
              "      <td>0.224353</td>\n",
              "      <td>0.912080</td>\n",
              "      <td>04:12</td>\n",
              "    </tr>\n",
              "    <tr>\n",
              "      <td>2</td>\n",
              "      <td>0.183822</td>\n",
              "      <td>0.193639</td>\n",
              "      <td>0.927000</td>\n",
              "      <td>04:20</td>\n",
              "    </tr>\n",
              "    <tr>\n",
              "      <td>3</td>\n",
              "      <td>0.172296</td>\n",
              "      <td>0.188671</td>\n",
              "      <td>0.928280</td>\n",
              "      <td>04:20</td>\n",
              "    </tr>\n",
              "  </tbody>\n",
              "</table>"
            ],
            "text/plain": [
              "<IPython.core.display.HTML object>"
            ]
          },
          "metadata": {
            "tags": []
          }
        }
      ]
    },
    {
      "cell_type": "markdown",
      "metadata": {
        "id": "NqaPPz89vq3i",
        "colab_type": "text"
      },
      "source": [
        "## Predicion"
      ]
    },
    {
      "cell_type": "code",
      "metadata": {
        "id": "v07jTUjQBWJx",
        "colab_type": "code",
        "colab": {
          "base_uri": "https://localhost:8080/",
          "height": 35
        },
        "outputId": "ba38e375-acf2-4937-8c54-b63152ee61dc"
      },
      "source": [
        "learn.predict(\"I really liked that movie!\")"
      ],
      "execution_count": null,
      "outputs": [
        {
          "output_type": "display_data",
          "data": {
            "text/html": [
              ""
            ],
            "text/plain": [
              "<IPython.core.display.HTML object>"
            ]
          },
          "metadata": {
            "tags": []
          }
        },
        {
          "output_type": "execute_result",
          "data": {
            "text/plain": [
              "('pos', tensor(1), tensor([0.0021, 0.9979]))"
            ]
          },
          "metadata": {
            "tags": []
          },
          "execution_count": 12
        }
      ]
    },
    {
      "cell_type": "code",
      "metadata": {
        "id": "GTqMRfTGVXey",
        "colab_type": "code",
        "colab": {
          "base_uri": "https://localhost:8080/",
          "height": 35
        },
        "outputId": "08e05451-0d62-48a2-f2ec-e3ce72e0219a"
      },
      "source": [
        "learn.predict(\"OMG! That was horrible!\")"
      ],
      "execution_count": null,
      "outputs": [
        {
          "output_type": "display_data",
          "data": {
            "text/html": [
              ""
            ],
            "text/plain": [
              "<IPython.core.display.HTML object>"
            ]
          },
          "metadata": {
            "tags": []
          }
        },
        {
          "output_type": "execute_result",
          "data": {
            "text/plain": [
              "('neg', tensor(0), tensor([0.8895, 0.1105]))"
            ]
          },
          "metadata": {
            "tags": []
          },
          "execution_count": 16
        }
      ]
    },
    {
      "cell_type": "code",
      "metadata": {
        "id": "nsGi_DeQVJ1O",
        "colab_type": "code",
        "colab": {
          "base_uri": "https://localhost:8080/",
          "height": 35
        },
        "outputId": "b85e5857-dd01-4c95-f58c-cbbc99d0d288"
      },
      "source": [
        "# but\n",
        "learn.predict(\"The best movie I have seen? No, definitely not.\")"
      ],
      "execution_count": null,
      "outputs": [
        {
          "output_type": "display_data",
          "data": {
            "text/html": [
              ""
            ],
            "text/plain": [
              "<IPython.core.display.HTML object>"
            ]
          },
          "metadata": {
            "tags": []
          }
        },
        {
          "output_type": "execute_result",
          "data": {
            "text/plain": [
              "('pos', tensor(1), tensor([0.0057, 0.9943]))"
            ]
          },
          "metadata": {
            "tags": []
          },
          "execution_count": 13
        }
      ]
    },
    {
      "cell_type": "markdown",
      "metadata": {
        "id": "ArelfTs4lRfT",
        "colab_type": "text"
      },
      "source": [
        "# Train a classifier on genomic sequences\n",
        "\n",
        "## Data"
      ]
    },
    {
      "cell_type": "code",
      "metadata": {
        "id": "B17WCPOKljhk",
        "colab_type": "code",
        "colab": {}
      },
      "source": [
        "#intergenomic = pd.read_csv(\"https://raw.githubusercontent.com/ML-Bioinfo-CEITEC/ECCB2020/master/data/intergenomic_seqs_50k.csv\")\n",
        "transcripts = pd.read_csv(\"https://raw.githubusercontent.com/ML-Bioinfo-CEITEC/ECCB2020/master/data/random_transcripts.csv\")\n",
        "\n",
        "intergenomic = intergenomic[:10000]   # take only the first 10000\n",
        "transcripts = transcripts[:10000]\n",
        "\n",
        "# chr1 is used for validation\n",
        "intergenomic_train = intergenomic[intergenomic.chr!=\"1\"]\n",
        "intergenomic_valid = intergenomic[intergenomic.chr==\"1\"]\n",
        "transcripts_train = transcripts[transcripts.chr!=\"1\"]\n",
        "transcripts_valid = transcripts[transcripts.chr==\"1\"]"
      ],
      "execution_count": null,
      "outputs": []
    },
    {
      "cell_type": "code",
      "metadata": {
        "id": "HTqtaNhbrcaB",
        "colab_type": "code",
        "colab": {}
      },
      "source": [
        "# splitting the file into training and test part\n",
        "\n",
        "!rm -rf split_tok\n",
        "!rm -rf split\n",
        "\n",
        "Path(\"split/train/intergenomic/\").mkdir(parents=True)\n",
        "Path(\"split/valid/intergenomic/\").mkdir(parents=True)\n",
        "Path(\"split/train/transcripts/\").mkdir(parents=True)\n",
        "Path(\"split/valid/transcripts/\").mkdir(parents=True)\n",
        "\n",
        "for i, s in enumerate(intergenomic_train.seq):\n",
        "  open(\"split/train/intergenomic/seq\"+str(i)+\".txt\", 'w').writelines([s])\n",
        "for i, s in enumerate(intergenomic_valid.seq):\n",
        "  open(\"split/valid/intergenomic/seq\"+str(i)+\".txt\", 'w').writelines([s])\n",
        "for i, s in enumerate(transcripts_train.seq):\n",
        "  open(\"split/train/transcripts/seq\"+str(i)+\".txt\", 'w').writelines([s])\n",
        "for i, s in enumerate(transcripts_valid.seq):\n",
        "  open(\"split/valid/transcripts/seq\"+str(i)+\".txt\", 'w').writelines([s])"
      ],
      "execution_count": null,
      "outputs": []
    },
    {
      "cell_type": "markdown",
      "metadata": {
        "id": "LDaKUQDWs_D6",
        "colab_type": "text"
      },
      "source": [
        "## Tokenizer"
      ]
    },
    {
      "cell_type": "code",
      "metadata": {
        "id": "bBmK3l9WsKn0",
        "colab_type": "code",
        "colab": {
          "base_uri": "https://localhost:8080/",
          "height": 217
        },
        "outputId": "90d0d779-1cbd-4190-dfbc-b4b2f1e78b7d"
      },
      "source": [
        "!wget https://raw.githubusercontent.com/ML-Bioinfo-CEITEC/ECCB2020/master/notebooks/genomic_tokenizer2.py\n",
        "from genomic_tokenizer2 import tkn2"
      ],
      "execution_count": null,
      "outputs": [
        {
          "output_type": "stream",
          "text": [
            "--2020-08-31 07:26:40--  https://raw.githubusercontent.com/ML-Bioinfo-CEITEC/ECCB2020/master/notebooks/genomic_tokenizer2.py\n",
            "Resolving raw.githubusercontent.com (raw.githubusercontent.com)... 151.101.0.133, 151.101.64.133, 151.101.128.133, ...\n",
            "Connecting to raw.githubusercontent.com (raw.githubusercontent.com)|151.101.0.133|:443... connected.\n",
            "HTTP request sent, awaiting response... 200 OK\n",
            "Length: 565 [text/plain]\n",
            "Saving to: ‘genomic_tokenizer2.py’\n",
            "\n",
            "genomic_tokenizer2. 100%[===================>]     565  --.-KB/s    in 0s      \n",
            "\n",
            "2020-08-31 07:26:40 (30.5 MB/s) - ‘genomic_tokenizer2.py’ saved [565/565]\n",
            "\n"
          ],
          "name": "stdout"
        }
      ]
    },
    {
      "cell_type": "code",
      "metadata": {
        "id": "lV53oCDOs6Xg",
        "colab_type": "code",
        "colab": {
          "base_uri": "https://localhost:8080/",
          "height": 35
        },
        "outputId": "1d98e088-8ddf-4a0b-feb2-c58ccfcfc1e5"
      },
      "source": [
        "tkn2(\"CGGCTAGC\")"
      ],
      "execution_count": null,
      "outputs": [
        {
          "output_type": "execute_result",
          "data": {
            "text/plain": [
              "(#8) ['C','G','G','C','T','A','G','C']"
            ]
          },
          "metadata": {
            "tags": []
          },
          "execution_count": 24
        }
      ]
    },
    {
      "cell_type": "markdown",
      "metadata": {
        "id": "u-tTL338uxaW",
        "colab_type": "text"
      },
      "source": [
        "## Data Loaders"
      ]
    },
    {
      "cell_type": "code",
      "metadata": {
        "id": "wxHW0vb9ustA",
        "colab_type": "code",
        "colab": {}
      },
      "source": [
        "dls = TextDataLoaders.from_folder(Path(\"./split\"), bs=128, seed=42,  \n",
        "                                   tok_tfm=tkn2, seq_len=50)"
      ],
      "execution_count": null,
      "outputs": []
    },
    {
      "cell_type": "code",
      "metadata": {
        "id": "NJgFUHsZu6pI",
        "colab_type": "code",
        "colab": {
          "base_uri": "https://localhost:8080/",
          "height": 474
        },
        "outputId": "349bbec7-64b3-4ae4-f5e0-8dfa40c9d5bc"
      },
      "source": [
        "dls.show_batch()"
      ],
      "execution_count": null,
      "outputs": [
        {
          "output_type": "display_data",
          "data": {
            "text/html": [
              "<table border=\"1\" class=\"dataframe\">\n",
              "  <thead>\n",
              "    <tr style=\"text-align: right;\">\n",
              "      <th></th>\n",
              "      <th>text</th>\n",
              "      <th>category</th>\n",
              "    </tr>\n",
              "  </thead>\n",
              "  <tbody>\n",
              "    <tr>\n",
              "      <th>0</th>\n",
              "      <td>G T G A T T C T C T T C T T G T C T T T T A A A A A T A G T A G A T A G C T C A C T T A G C T G C C T A T A C A G A A A T G A T A A T A C C T C A G A T T T T C T C A C T A T T T T T C T A T A C A A G C T C A T C A A A C A A C A A T T G A A C A A A G G C C T T G A G G T G C C C A G A A A G C C G A A</td>\n",
              "      <td>intergenomic</td>\n",
              "    </tr>\n",
              "    <tr>\n",
              "      <th>1</th>\n",
              "      <td>T G C C C T T G T A A T T G T C T T C T C A T T T G T A A G G A C A C A T C T C G G C G A A T A G G A T G C C C A A G A C C C A A C T G T A G A C G G A T A A T T A A C C T T G G C C C A G T A A T G C T T A T T T C T G A A G A A C A A C C A G C T C A G C C T G C A T T G C C A A T C C A A C C A G A A</td>\n",
              "      <td>transcripts</td>\n",
              "    </tr>\n",
              "    <tr>\n",
              "      <th>2</th>\n",
              "      <td>C A G C C T C C A A A T C C T G G G C T C C A A G C G A T C C T C C C A C C T C A G C T T T C C G A G T A G C T G G G A C T A C A C A G G C G C C T G C C A C C C T G C T C T G C T A A T T T T T A A T T T T T T T G G G T A G A G A T G G G G G T G A G G G A G A T A G G A G T C G G G G G G G A T G C T</td>\n",
              "      <td>intergenomic</td>\n",
              "    </tr>\n",
              "    <tr>\n",
              "      <th>3</th>\n",
              "      <td>G T G C T A C C A A G A G A C C C C T G G A C C A A G G G A G G C T C T T A C T C G A C T C C A G G A A C T T T G C T A C C A G T G G T T G A G G C C A C A T G T G A G C A C A A A G G A G C A G A T T T T G G A T C T G C T G G T G C T G G A G C A G T T T C T A T C C A T T C T G C C C A A G G A G C T</td>\n",
              "      <td>transcripts</td>\n",
              "    </tr>\n",
              "    <tr>\n",
              "      <th>4</th>\n",
              "      <td>G T G G G A G C T T T G C T T G A G C C C A G G A G T T C A A G A C C A G C C T G G G C A A C A T G G T G A A A C C C T G T C T C T A T A A A A T A T A C A A A A G T T A G C C A G G T G T G G T G G C A C A C G C C T G T A G T C C C A C C T A C T C G G G A G G T T G A G T T G A G A G G A T C A C C T</td>\n",
              "      <td>intergenomic</td>\n",
              "    </tr>\n",
              "    <tr>\n",
              "      <th>5</th>\n",
              "      <td>T T T T A A A T G C A A T A C A T T A T T T A T A T A A T T T C T T G C A G T A A T A A T C T G T T C A G G A G A C A T T T T T T A G T C T C T A T C A A A C C A A G C A C A C A T T A T C T G C C T T G T A C T C T T G T A G A T A T T C A G T T A A A A T A C A T C C T A A T G T T T A A A G T G T T C</td>\n",
              "      <td>intergenomic</td>\n",
              "    </tr>\n",
              "    <tr>\n",
              "      <th>6</th>\n",
              "      <td>A A G G C A G A G C A A T G A C C A A A A C A A T C T T A A T C T T A C T A C A G C T T C C A T T C C A G C A A G G A A A A C T G A G A A T A A A C A G C A A A T G C A T A T G T A A T A T C A C A T G G A G A A A G A T G C T C T G G A G A A A A A A A G A A A G T A T T A T A A A G T G A T A G T C A A</td>\n",
              "      <td>intergenomic</td>\n",
              "    </tr>\n",
              "    <tr>\n",
              "      <th>7</th>\n",
              "      <td>A G T G C A G G T G T A T G C A A T G C A C T A C A A T G T T T A T A T C A C T T A A A A T A T T T G T G A C A C A T T C C A T T T G A T C T T C A G A T A A A A T A A T A A G T T A T A A G T G G T T T A G A G G T A G T C A T C T G T C T A A A A A A A A T C T A T A C A A T A T T A T A T C T T G G G</td>\n",
              "      <td>intergenomic</td>\n",
              "    </tr>\n",
              "    <tr>\n",
              "      <th>8</th>\n",
              "      <td>A C A T T C A C T A A A G T C C C T G G A T C T G G T C A C C A T G A A A A A G C T G G A C A G T A A G G T G A A C A T C A T T C C A A T A A T T G C A A A A G C T G A C A C C A T T G C C A A G A A T G A A C T G C A C A A A T T C A A G A G T A A G A T C A T G A G T G A A C T G G T C A G C A A T G G</td>\n",
              "      <td>transcripts</td>\n",
              "    </tr>\n",
              "  </tbody>\n",
              "</table>"
            ],
            "text/plain": [
              "<IPython.core.display.HTML object>"
            ]
          },
          "metadata": {
            "tags": []
          }
        }
      ]
    },
    {
      "cell_type": "markdown",
      "metadata": {
        "id": "M6nHx-afvEK9",
        "colab_type": "text"
      },
      "source": [
        "## Model Training"
      ]
    },
    {
      "cell_type": "code",
      "metadata": {
        "id": "KjfA4EhZvDU0",
        "colab_type": "code",
        "colab": {}
      },
      "source": [
        "learn = text_classifier_learner(dls, AWD_LSTM, drop_mult=0.5, metrics=accuracy, pretrained=False)"
      ],
      "execution_count": null,
      "outputs": []
    },
    {
      "cell_type": "code",
      "metadata": {
        "id": "ctOqZi77wXnG",
        "colab_type": "code",
        "colab": {
          "base_uri": "https://localhost:8080/",
          "height": 301
        },
        "outputId": "1a367ccd-011c-4634-c710-98a00f6fd996"
      },
      "source": [
        "learn.lr_find()"
      ],
      "execution_count": null,
      "outputs": [
        {
          "output_type": "display_data",
          "data": {
            "text/html": [
              ""
            ],
            "text/plain": [
              "<IPython.core.display.HTML object>"
            ]
          },
          "metadata": {
            "tags": []
          }
        },
        {
          "output_type": "execute_result",
          "data": {
            "text/plain": [
              "SuggestedLRs(lr_min=0.002290867641568184, lr_steep=0.0006918309954926372)"
            ]
          },
          "metadata": {
            "tags": []
          },
          "execution_count": 30
        },
        {
          "output_type": "display_data",
          "data": {
            "image/png": "[encoded data removed]",
            "text/plain": [
              "<Figure size 432x288 with 1 Axes>"
            ]
          },
          "metadata": {
            "tags": [],
            "needs_background": "light"
          }
        }
      ]
    },
    {
      "cell_type": "code",
      "metadata": {
        "id": "Kdedp7I9vOe5",
        "colab_type": "code",
        "colab": {
          "base_uri": "https://localhost:8080/",
          "height": 138
        },
        "outputId": "ada8b207-76bc-41b0-c841-f276a8295ad4"
      },
      "source": [
        "learn.fit_one_cycle(3, 2e-3)"
      ],
      "execution_count": null,
      "outputs": [
        {
          "output_type": "display_data",
          "data": {
            "text/html": [
              "<table border=\"1\" class=\"dataframe\">\n",
              "  <thead>\n",
              "    <tr style=\"text-align: left;\">\n",
              "      <th>epoch</th>\n",
              "      <th>train_loss</th>\n",
              "      <th>valid_loss</th>\n",
              "      <th>accuracy</th>\n",
              "      <th>time</th>\n",
              "    </tr>\n",
              "  </thead>\n",
              "  <tbody>\n",
              "    <tr>\n",
              "      <td>0</td>\n",
              "      <td>0.477583</td>\n",
              "      <td>0.563918</td>\n",
              "      <td>0.697898</td>\n",
              "      <td>01:14</td>\n",
              "    </tr>\n",
              "    <tr>\n",
              "      <td>1</td>\n",
              "      <td>0.413866</td>\n",
              "      <td>0.368638</td>\n",
              "      <td>0.831832</td>\n",
              "      <td>01:14</td>\n",
              "    </tr>\n",
              "    <tr>\n",
              "      <td>2</td>\n",
              "      <td>0.357904</td>\n",
              "      <td>0.327108</td>\n",
              "      <td>0.860060</td>\n",
              "      <td>01:14</td>\n",
              "    </tr>\n",
              "  </tbody>\n",
              "</table>"
            ],
            "text/plain": [
              "<IPython.core.display.HTML object>"
            ]
          },
          "metadata": {
            "tags": []
          }
        }
      ]
    },
    {
      "cell_type": "markdown",
      "metadata": {
        "id": "LeyPay4sxTZc",
        "colab_type": "text"
      },
      "source": [
        "## Testing the prediction"
      ]
    },
    {
      "cell_type": "code",
      "metadata": {
        "id": "IJAZk4gtxXgQ",
        "colab_type": "code",
        "colab": {
          "base_uri": "https://localhost:8080/",
          "height": 35
        },
        "outputId": "383711c4-5c14-4392-94ec-0def20923d15"
      },
      "source": [
        "learn.predict(\"AAAAAAATTAAAAAAATTAAAAAAAAAATTAAAAAAAAA\")"
      ],
      "execution_count": null,
      "outputs": [
        {
          "output_type": "display_data",
          "data": {
            "text/html": [
              ""
            ],
            "text/plain": [
              "<IPython.core.display.HTML object>"
            ]
          },
          "metadata": {
            "tags": []
          }
        },
        {
          "output_type": "execute_result",
          "data": {
            "text/plain": [
              "('intergenomic', tensor(0), tensor([1.0000e+00, 1.6818e-07]))"
            ]
          },
          "metadata": {
            "tags": []
          },
          "execution_count": 34
        }
      ]
    },
    {
      "cell_type": "code",
      "metadata": {
        "id": "ttoWD7FUcfK9",
        "colab_type": "code",
        "colab": {
          "base_uri": "https://localhost:8080/",
          "height": 35
        },
        "outputId": "479d8f6b-6395-4678-e233-0ff59f5aa326"
      },
      "source": [
        "learn.predict(\"GACTGGAAGTTTCCTGAGGTCTCCCAGCCATGCAGAACT\")"
      ],
      "execution_count": null,
      "outputs": [
        {
          "output_type": "display_data",
          "data": {
            "text/html": [
              ""
            ],
            "text/plain": [
              "<IPython.core.display.HTML object>"
            ]
          },
          "metadata": {
            "tags": []
          }
        },
        {
          "output_type": "execute_result",
          "data": {
            "text/plain": [
              "('transcripts', tensor(1), tensor([0.0449, 0.9551]))"
            ]
          },
          "metadata": {
            "tags": []
          },
          "execution_count": 35
        }
      ]
    }
  ]
}